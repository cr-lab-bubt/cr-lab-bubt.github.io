{
  "nbformat": 4,
  "nbformat_minor": 0,
  "metadata": {
    "colab": {
      "name": "Untitled4.ipynb",
      "provenance": [],
      "authorship_tag": "ABX9TyN4m7kzJPh3dxe9Zc/EO8PQ",
      "include_colab_link": true
    },
    "kernelspec": {
      "name": "python3",
      "display_name": "Python 3"
    },
    "language_info": {
      "name": "python"
    }
  },
  "cells": [
    {
      "cell_type": "markdown",
      "metadata": {
        "id": "view-in-github",
        "colab_type": "text"
      },
      "source": [
        "<a href=\"https://colab.research.google.com/github/j-hossain/crlab/blob/main/cicids2018preprocesing.ipynb\" target=\"_parent\"><img src=\"https://colab.research.google.com/assets/colab-badge.svg\" alt=\"Open In Colab\"/></a>"
      ]
    },
    {
      "cell_type": "code",
      "execution_count": 1,
      "metadata": {
        "id": "OIoCZLIrDGZ3"
      },
      "outputs": [],
      "source": [
        "import pandas as pd\n",
        "import numpy as np"
      ]
    },
    {
      "cell_type": "code",
      "source": [
        "# first upload the kaggle api key to fetch dataset\n",
        "from google.colab import files\n",
        "apiKey = files.upload()"
      ],
      "metadata": {
        "id": "b_LRP6O5Tz5b",
        "outputId": "5562b9d5-57f2-4723-b568-db6edc09f84a",
        "colab": {
          "resources": {
            "http://localhost:8080/nbextensions/google.colab/files.js": {
              "data": "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",
              "ok": true,
              "headers": [
                [
                  "content-type",
                  "application/javascript"
                ]
              ],
              "status": 200,
              "status_text": ""
            }
          },
          "base_uri": "https://localhost:8080/",
          "height": 74
        }
      },
      "execution_count": 2,
      "outputs": [
        {
          "output_type": "display_data",
          "data": {
            "text/plain": [
              "<IPython.core.display.HTML object>"
            ],
            "text/html": [
              "\n",
              "     <input type=\"file\" id=\"files-f2b803df-1b11-45a1-a1e3-a070408e5050\" name=\"files[]\" multiple disabled\n",
              "        style=\"border:none\" />\n",
              "     <output id=\"result-f2b803df-1b11-45a1-a1e3-a070408e5050\">\n",
              "      Upload widget is only available when the cell has been executed in the\n",
              "      current browser session. Please rerun this cell to enable.\n",
              "      </output>\n",
              "      <script src=\"/nbextensions/google.colab/files.js\"></script> "
            ]
          },
          "metadata": {}
        },
        {
          "output_type": "stream",
          "name": "stdout",
          "text": [
            "Saving kaggle.json to kaggle.json\n"
          ]
        }
      ]
    },
    {
      "cell_type": "code",
      "source": [
        "import os\n",
        "os.environ['KAGGLE_CONFIG_DIR'] = \"/content\"\n",
        "! chmod 600 /content/kaggle.json\n",
        "! kaggle datasets download solarmainframe/ids-intrusion-csv\n",
        "! mkdir dataset\n",
        "! unzip /content/ids-intrusion-csv.zip -d '/content/dataset'"
      ],
      "metadata": {
        "id": "M4KgoM8_T7co"
      },
      "execution_count": null,
      "outputs": []
    },
    {
      "cell_type": "code",
      "source": [
        "dtp = {\"Dst Port\":\"int32\",\"Protocol\":\"int8\",\n",
        "       \"Tot Fwd Pkts\":\"int16\",\n",
        "       \"Tot Bwd Pkts\":\"int16\",\n",
        "       \"Fwd Pkt Len Max\":\"int32\",\n",
        "       \"Fwd Pkt Len Min\":\"int16\",\n",
        "       \"Fwd Pkt Len Mean\":\"float32\",\n",
        "       \"Fwd Pkt Len Std\":\"float32\",\n",
        "       \"Bwd Pkt Len Max\":\"int16\",\n",
        "       \"Bwd Pkt Len Min\":\"int16\",\n",
        "       \"Bwd Pkt Len Mean\":\"float32\",\n",
        "       \"Bwd Pkt Len Std\":\"float32\",\n",
        "       \"Fwd Header Len\":\"int32\",\n",
        "       \"Bwd Header Len\":\"int32\",\n",
        "       \"Pkt Len Min\":\"int16\"\n",
        "       }\n",
        "drp = [\"Timestamp\"]"
      ],
      "metadata": {
        "id": "xTme_kqIU9Zt"
      },
      "execution_count": 67,
      "outputs": []
    },
    {
      "cell_type": "code",
      "source": [
        "df=pd.read_csv('/content/dataset/02-14-2018.csv',dtype=dtp,usecols=lambda x: x not in drp)"
      ],
      "metadata": {
        "id": "XIFnUy_TUOn4"
      },
      "execution_count": 64,
      "outputs": []
    },
    {
      "cell_type": "code",
      "source": [
        "pd.set_option('display.max_rows', 500)\n",
        "for i, name in enumerate(df.columns):\n",
        "    print(f'\"{name}\":{{\"dtype\":{df[name].dtype}, \"min\":{df[name].min()}, \"max\":{df[name].max()}}} {\",\" if i>(len(df.columns)-1) else \"\"}')\n",
        "print(\"}\") "
      ],
      "metadata": {
        "id": "QxZhLAW4WbFC",
        "outputId": "bb38d008-6ff2-4a5b-e0af-55c54a5ea24b",
        "colab": {
          "base_uri": "https://localhost:8080/"
        }
      },
      "execution_count": 65,
      "outputs": [
        {
          "output_type": "stream",
          "name": "stdout",
          "text": [
            "\"Dst Port\":{\"dtype\":int32, \"min\":0, \"max\":65533} \n",
            "\"Protocol\":{\"dtype\":int8, \"min\":0, \"max\":17} \n",
            "\"Flow Duration\":{\"dtype\":int64, \"min\":-919011000000, \"max\":119999989} \n",
            "\"Tot Fwd Pkts\":{\"dtype\":int16, \"min\":1, \"max\":5115} \n",
            "\"Tot Bwd Pkts\":{\"dtype\":int16, \"min\":0, \"max\":9198} \n",
            "\"TotLen Fwd Pkts\":{\"dtype\":int64, \"min\":0, \"max\":8591554} \n",
            "\"TotLen Bwd Pkts\":{\"dtype\":int64, \"min\":0, \"max\":13397730} \n",
            "\"Fwd Pkt Len Max\":{\"dtype\":int32, \"min\":0, \"max\":64440} \n",
            "\"Fwd Pkt Len Min\":{\"dtype\":int16, \"min\":0, \"max\":1460} \n",
            "\"Fwd Pkt Len Mean\":{\"dtype\":float32, \"min\":0.0, \"max\":11217.025390625} \n",
            "\"Fwd Pkt Len Std\":{\"dtype\":float32, \"min\":0.0, \"max\":15760.837890625} \n",
            "\"Bwd Pkt Len Max\":{\"dtype\":int16, \"min\":0, \"max\":1460} \n",
            "\"Bwd Pkt Len Min\":{\"dtype\":int16, \"min\":0, \"max\":732} \n",
            "\"Bwd Pkt Len Mean\":{\"dtype\":float32, \"min\":0.0, \"max\":1459.240478515625} \n",
            "\"Bwd Pkt Len Std\":{\"dtype\":float32, \"min\":0.0, \"max\":944.6946411132812} \n",
            "\"Flow Byts/s\":{\"dtype\":float64, \"min\":0.0, \"max\":inf} \n",
            "\"Flow Pkts/s\":{\"dtype\":float64, \"min\":-0.0010297608, \"max\":inf} \n",
            "\"Flow IAT Mean\":{\"dtype\":float64, \"min\":-340701000000.0, \"max\":119990721.0} \n",
            "\"Flow IAT Std\":{\"dtype\":float64, \"min\":0.0, \"max\":424473900119.579} \n",
            "\"Flow IAT Max\":{\"dtype\":int64, \"min\":-159438000000, \"max\":979781000000} \n",
            "\"Flow IAT Min\":{\"dtype\":int64, \"min\":-943564000000, \"max\":119990721} \n",
            "\"Fwd IAT Tot\":{\"dtype\":int64, \"min\":-919011000000, \"max\":119999849} \n",
            "\"Fwd IAT Mean\":{\"dtype\":float64, \"min\":-340701000000.0, \"max\":119990721.0} \n",
            "\"Fwd IAT Std\":{\"dtype\":float64, \"min\":0.0, \"max\":424473900119.579} \n",
            "\"Fwd IAT Max\":{\"dtype\":int64, \"min\":-159438000000, \"max\":979781000000} \n",
            "\"Fwd IAT Min\":{\"dtype\":int64, \"min\":-943564000000, \"max\":119990721} \n",
            "\"Bwd IAT Tot\":{\"dtype\":int64, \"min\":0, \"max\":119999719} \n",
            "\"Bwd IAT Mean\":{\"dtype\":float64, \"min\":0.0, \"max\":119400326.0} \n",
            "\"Bwd IAT Std\":{\"dtype\":float64, \"min\":0.0, \"max\":84473147.60547} \n",
            "\"Bwd IAT Max\":{\"dtype\":int64, \"min\":0, \"max\":119564005} \n",
            "\"Bwd IAT Min\":{\"dtype\":int64, \"min\":0, \"max\":119400326} \n",
            "\"Fwd PSH Flags\":{\"dtype\":int64, \"min\":0, \"max\":1} \n",
            "\"Bwd PSH Flags\":{\"dtype\":int64, \"min\":0, \"max\":0} \n",
            "\"Fwd URG Flags\":{\"dtype\":int64, \"min\":0, \"max\":0} \n",
            "\"Bwd URG Flags\":{\"dtype\":int64, \"min\":0, \"max\":0} \n",
            "\"Fwd Header Len\":{\"dtype\":int64, \"min\":0, \"max\":157688} \n",
            "\"Bwd Header Len\":{\"dtype\":int64, \"min\":0, \"max\":183972} \n",
            "\"Fwd Pkts/s\":{\"dtype\":float64, \"min\":0.0, \"max\":4000000.0} \n",
            "\"Bwd Pkts/s\":{\"dtype\":float64, \"min\":0.0, \"max\":2000000.0} \n",
            "\"Pkt Len Min\":{\"dtype\":int64, \"min\":0, \"max\":788} \n",
            "\"Pkt Len Max\":{\"dtype\":int64, \"min\":0, \"max\":64440} \n",
            "\"Pkt Len Mean\":{\"dtype\":float64, \"min\":0.0, \"max\":2521.1157426143} \n",
            "\"Pkt Len Std\":{\"dtype\":float64, \"min\":0.0, \"max\":8810.76844946} \n",
            "\"Pkt Len Var\":{\"dtype\":float64, \"min\":0.0, \"max\":77629640.669999} \n",
            "\"FIN Flag Cnt\":{\"dtype\":int64, \"min\":0, \"max\":1} \n",
            "\"SYN Flag Cnt\":{\"dtype\":int64, \"min\":0, \"max\":1} \n",
            "\"RST Flag Cnt\":{\"dtype\":int64, \"min\":0, \"max\":1} \n",
            "\"PSH Flag Cnt\":{\"dtype\":int64, \"min\":0, \"max\":1} \n",
            "\"ACK Flag Cnt\":{\"dtype\":int64, \"min\":0, \"max\":1} \n",
            "\"URG Flag Cnt\":{\"dtype\":int64, \"min\":0, \"max\":1} \n",
            "\"CWE Flag Count\":{\"dtype\":int64, \"min\":0, \"max\":0} \n",
            "\"ECE Flag Cnt\":{\"dtype\":int64, \"min\":0, \"max\":1} \n",
            "\"Down/Up Ratio\":{\"dtype\":int64, \"min\":0, \"max\":80} \n",
            "\"Pkt Size Avg\":{\"dtype\":float64, \"min\":0.0, \"max\":2522.136437247} \n",
            "\"Fwd Seg Size Avg\":{\"dtype\":float64, \"min\":0.0, \"max\":11217.0252252252} \n",
            "\"Bwd Seg Size Avg\":{\"dtype\":float64, \"min\":0.0, \"max\":1459.240494732} \n",
            "\"Fwd Byts/b Avg\":{\"dtype\":int64, \"min\":0, \"max\":0} \n",
            "\"Fwd Pkts/b Avg\":{\"dtype\":int64, \"min\":0, \"max\":0} \n",
            "\"Fwd Blk Rate Avg\":{\"dtype\":int64, \"min\":0, \"max\":0} \n",
            "\"Bwd Byts/b Avg\":{\"dtype\":int64, \"min\":0, \"max\":0} \n",
            "\"Bwd Pkts/b Avg\":{\"dtype\":int64, \"min\":0, \"max\":0} \n",
            "\"Bwd Blk Rate Avg\":{\"dtype\":int64, \"min\":0, \"max\":0} \n",
            "\"Subflow Fwd Pkts\":{\"dtype\":int64, \"min\":1, \"max\":5115} \n",
            "\"Subflow Fwd Byts\":{\"dtype\":int64, \"min\":0, \"max\":8591554} \n",
            "\"Subflow Bwd Pkts\":{\"dtype\":int64, \"min\":0, \"max\":9198} \n",
            "\"Subflow Bwd Byts\":{\"dtype\":int64, \"min\":0, \"max\":13397730} \n",
            "\"Init Fwd Win Byts\":{\"dtype\":int64, \"min\":-1, \"max\":65535} \n",
            "\"Init Bwd Win Byts\":{\"dtype\":int64, \"min\":-1, \"max\":65535} \n",
            "\"Fwd Act Data Pkts\":{\"dtype\":int64, \"min\":0, \"max\":1031} \n",
            "\"Fwd Seg Size Min\":{\"dtype\":int64, \"min\":0, \"max\":48} \n",
            "\"Active Mean\":{\"dtype\":float64, \"min\":0.0, \"max\":110240118.0} \n",
            "\"Active Std\":{\"dtype\":float64, \"min\":0.0, \"max\":57234461.7203198} \n",
            "\"Active Max\":{\"dtype\":int64, \"min\":0, \"max\":110240118} \n",
            "\"Active Min\":{\"dtype\":int64, \"min\":0, \"max\":110240118} \n",
            "\"Idle Mean\":{\"dtype\":float64, \"min\":0.0, \"max\":339450312500.0} \n",
            "\"Idle Std\":{\"dtype\":float64, \"min\":0.0, \"max\":243268209256.922} \n",
            "\"Idle Max\":{\"dtype\":int64, \"min\":0, \"max\":979781000000} \n",
            "\"Idle Min\":{\"dtype\":int64, \"min\":0, \"max\":12603000000} \n",
            "\"Label\":{\"dtype\":object, \"min\":Benign, \"max\":SSH-Bruteforce} \n",
            "}\n"
          ]
        }
      ]
    }
  ]
}