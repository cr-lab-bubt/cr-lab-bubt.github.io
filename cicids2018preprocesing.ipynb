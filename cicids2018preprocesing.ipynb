{
  "nbformat": 4,
  "nbformat_minor": 0,
  "metadata": {
    "colab": {
      "name": "Untitled4.ipynb",
      "provenance": [],
      "authorship_tag": "ABX9TyPxEnwpcD26ocWxmWX00BBW",
      "include_colab_link": true
    },
    "kernelspec": {
      "name": "python3",
      "display_name": "Python 3"
    },
    "language_info": {
      "name": "python"
    }
  },
  "cells": [
    {
      "cell_type": "markdown",
      "metadata": {
        "id": "view-in-github",
        "colab_type": "text"
      },
      "source": [
        "<a href=\"https://colab.research.google.com/github/j-hossain/crlab/blob/main/cicids2018preprocesing.ipynb\" target=\"_parent\"><img src=\"https://colab.research.google.com/assets/colab-badge.svg\" alt=\"Open In Colab\"/></a>"
      ]
    },
    {
      "cell_type": "code",
      "execution_count": 1,
      "metadata": {
        "id": "OIoCZLIrDGZ3"
      },
      "outputs": [],
      "source": [
        "import pandas as pd\n",
        "import numpy as np"
      ]
    },
    {
      "cell_type": "code",
      "source": [
        "# first upload the kaggle api key to fetch dataset\n",
        "from google.colab import files\n",
        "apiKey = files.upload()"
      ],
      "metadata": {
        "id": "b_LRP6O5Tz5b",
        "outputId": "dd388520-2033-4d20-bb3c-a737537b4203",
        "colab": {
          "resources": {
            "http://localhost:8080/nbextensions/google.colab/files.js": {
              "data": "Ly8gQ29weXJpZ2h0IDIwMTcgR29vZ2xlIExMQwovLwovLyBMaWNlbnNlZCB1bmRlciB0aGUgQXBhY2hlIExpY2Vuc2UsIFZlcnNpb24gMi4wICh0aGUgIkxpY2Vuc2UiKTsKLy8geW91IG1heSBub3QgdXNlIHRoaXMgZmlsZSBleGNlcHQgaW4gY29tcGxpYW5jZSB3aXRoIHRoZSBMaWNlbnNlLgovLyBZb3UgbWF5IG9idGFpbiBhIGNvcHkgb2YgdGhlIExpY2Vuc2UgYXQKLy8KLy8gICAgICBodHRwOi8vd3d3LmFwYWNoZS5vcmcvbGljZW5zZXMvTElDRU5TRS0yLjAKLy8KLy8gVW5sZXNzIHJlcXVpcmVkIGJ5IGFwcGxpY2FibGUgbGF3IG9yIGFncmVlZCB0byBpbiB3cml0aW5nLCBzb2Z0d2FyZQovLyBkaXN0cmlidXRlZCB1bmRlciB0aGUgTGljZW5zZSBpcyBkaXN0cmlidXRlZCBvbiBhbiAiQVMgSVMiIEJBU0lTLAovLyBXSVRIT1VUIFdBUlJBTlRJRVMgT1IgQ09ORElUSU9OUyBPRiBBTlkgS0lORCwgZWl0aGVyIGV4cHJlc3Mgb3IgaW1wbGllZC4KLy8gU2VlIHRoZSBMaWNlbnNlIGZvciB0aGUgc3BlY2lmaWMgbGFuZ3VhZ2UgZ292ZXJuaW5nIHBlcm1pc3Npb25zIGFuZAovLyBsaW1pdGF0aW9ucyB1bmRlciB0aGUgTGljZW5zZS4KCi8qKgogKiBAZmlsZW92ZXJ2aWV3IEhlbHBlcnMgZm9yIGdvb2dsZS5jb2xhYiBQeXRob24gbW9kdWxlLgogKi8KKGZ1bmN0aW9uKHNjb3BlKSB7CmZ1bmN0aW9uIHNwYW4odGV4dCwgc3R5bGVBdHRyaWJ1dGVzID0ge30pIHsKICBjb25zdCBlbGVtZW50ID0gZG9jdW1lbnQuY3JlYXRlRWxlbWVudCgnc3BhbicpOwogIGVsZW1lbnQudGV4dENvbnRlbnQgPSB0ZXh0OwogIGZvciAoY29uc3Qga2V5IG9mIE9iamVjdC5rZXlzKHN0eWxlQXR0cmlidXRlcykpIHsKICAgIGVsZW1lbnQuc3R5bGVba2V5XSA9IHN0eWxlQXR0cmlidXRlc1trZXldOwogIH0KICByZXR1cm4gZWxlbWVudDsKfQoKLy8gTWF4IG51bWJlciBvZiBieXRlcyB3aGljaCB3aWxsIGJlIHVwbG9hZGVkIGF0IGEgdGltZS4KY29uc3QgTUFYX1BBWUxPQURfU0laRSA9IDEwMCAqIDEwMjQ7CgpmdW5jdGlvbiBfdXBsb2FkRmlsZXMoaW5wdXRJZCwgb3V0cHV0SWQpIHsKICBjb25zdCBzdGVwcyA9IHVwbG9hZEZpbGVzU3RlcChpbnB1dElkLCBvdXRwdXRJZCk7CiAgY29uc3Qgb3V0cHV0RWxlbWVudCA9IGRvY3VtZW50LmdldEVsZW1lbnRCeUlkKG91dHB1dElkKTsKICAvLyBDYWNoZSBzdGVwcyBvbiB0aGUgb3V0cHV0RWxlbWVudCB0byBtYWtlIGl0IGF2YWlsYWJsZSBmb3IgdGhlIG5leHQgY2FsbAogIC8vIHRvIHVwbG9hZEZpbGVzQ29udGludWUgZnJvbSBQeXRob24uCiAgb3V0cHV0RWxlbWVudC5zdGVwcyA9IHN0ZXBzOwoKICByZXR1cm4gX3VwbG9hZEZpbGVzQ29udGludWUob3V0cHV0SWQpOwp9CgovLyBUaGlzIGlzIHJvdWdobHkgYW4gYXN5bmMgZ2VuZXJhdG9yIChub3Qgc3VwcG9ydGVkIGluIHRoZSBicm93c2VyIHlldCksCi8vIHdoZXJlIHRoZXJlIGFyZSBtdWx0aXBsZSBhc3luY2hyb25vdXMgc3RlcHMgYW5kIHRoZSBQeXRob24gc2lkZSBpcyBnb2luZwovLyB0byBwb2xsIGZvciBjb21wbGV0aW9uIG9mIGVhY2ggc3RlcC4KLy8gVGhpcyB1c2VzIGEgUHJvbWlzZSB0byBibG9jayB0aGUgcHl0aG9uIHNpZGUgb24gY29tcGxldGlvbiBvZiBlYWNoIHN0ZXAsCi8vIHRoZW4gcGFzc2VzIHRoZSByZXN1bHQgb2YgdGhlIHByZXZpb3VzIHN0ZXAgYXMgdGhlIGlucHV0IHRvIHRoZSBuZXh0IHN0ZXAuCmZ1bmN0aW9uIF91cGxvYWRGaWxlc0NvbnRpbnVlKG91dHB1dElkKSB7CiAgY29uc3Qgb3V0cHV0RWxlbWVudCA9IGRvY3VtZW50LmdldEVsZW1lbnRCeUlkKG91dHB1dElkKTsKICBjb25zdCBzdGVwcyA9IG91dHB1dEVsZW1lbnQuc3RlcHM7CgogIGNvbnN0IG5leHQgPSBzdGVwcy5uZXh0KG91dHB1dEVsZW1lbnQubGFzdFByb21pc2VWYWx1ZSk7CiAgcmV0dXJuIFByb21pc2UucmVzb2x2ZShuZXh0LnZhbHVlLnByb21pc2UpLnRoZW4oKHZhbHVlKSA9PiB7CiAgICAvLyBDYWNoZSB0aGUgbGFzdCBwcm9taXNlIHZhbHVlIHRvIG1ha2UgaXQgYXZhaWxhYmxlIHRvIHRoZSBuZXh0CiAgICAvLyBzdGVwIG9mIHRoZSBnZW5lcmF0b3IuCiAgICBvdXRwdXRFbGVtZW50Lmxhc3RQcm9taXNlVmFsdWUgPSB2YWx1ZTsKICAgIHJldHVybiBuZXh0LnZhbHVlLnJlc3BvbnNlOwogIH0pOwp9CgovKioKICogR2VuZXJhdG9yIGZ1bmN0aW9uIHdoaWNoIGlzIGNhbGxlZCBiZXR3ZWVuIGVhY2ggYXN5bmMgc3RlcCBvZiB0aGUgdXBsb2FkCiAqIHByb2Nlc3MuCiAqIEBwYXJhbSB7c3RyaW5nfSBpbnB1dElkIEVsZW1lbnQgSUQgb2YgdGhlIGlucHV0IGZpbGUgcGlja2VyIGVsZW1lbnQuCiAqIEBwYXJhbSB7c3RyaW5nfSBvdXRwdXRJZCBFbGVtZW50IElEIG9mIHRoZSBvdXRwdXQgZGlzcGxheS4KICogQHJldHVybiB7IUl0ZXJhYmxlPCFPYmplY3Q+fSBJdGVyYWJsZSBvZiBuZXh0IHN0ZXBzLgogKi8KZnVuY3Rpb24qIHVwbG9hZEZpbGVzU3RlcChpbnB1dElkLCBvdXRwdXRJZCkgewogIGNvbnN0IGlucHV0RWxlbWVudCA9IGRvY3VtZW50LmdldEVsZW1lbnRCeUlkKGlucHV0SWQpOwogIGlucHV0RWxlbWVudC5kaXNhYmxlZCA9IGZhbHNlOwoKICBjb25zdCBvdXRwdXRFbGVtZW50ID0gZG9jdW1lbnQuZ2V0RWxlbWVudEJ5SWQob3V0cHV0SWQpOwogIG91dHB1dEVsZW1lbnQuaW5uZXJIVE1MID0gJyc7CgogIGNvbnN0IHBpY2tlZFByb21pc2UgPSBuZXcgUHJvbWlzZSgocmVzb2x2ZSkgPT4gewogICAgaW5wdXRFbGVtZW50LmFkZEV2ZW50TGlzdGVuZXIoJ2NoYW5nZScsIChlKSA9PiB7CiAgICAgIHJlc29sdmUoZS50YXJnZXQuZmlsZXMpOwogICAgfSk7CiAgfSk7CgogIGNvbnN0IGNhbmNlbCA9IGRvY3VtZW50LmNyZWF0ZUVsZW1lbnQoJ2J1dHRvbicpOwogIGlucHV0RWxlbWVudC5wYXJlbnRFbGVtZW50LmFwcGVuZENoaWxkKGNhbmNlbCk7CiAgY2FuY2VsLnRleHRDb250ZW50ID0gJ0NhbmNlbCB1cGxvYWQnOwogIGNvbnN0IGNhbmNlbFByb21pc2UgPSBuZXcgUHJvbWlzZSgocmVzb2x2ZSkgPT4gewogICAgY2FuY2VsLm9uY2xpY2sgPSAoKSA9PiB7CiAgICAgIHJlc29sdmUobnVsbCk7CiAgICB9OwogIH0pOwoKICAvLyBXYWl0IGZvciB0aGUgdXNlciB0byBwaWNrIHRoZSBmaWxlcy4KICBjb25zdCBmaWxlcyA9IHlpZWxkIHsKICAgIHByb21pc2U6IFByb21pc2UucmFjZShbcGlja2VkUHJvbWlzZSwgY2FuY2VsUHJvbWlzZV0pLAogICAgcmVzcG9uc2U6IHsKICAgICAgYWN0aW9uOiAnc3RhcnRpbmcnLAogICAgfQogIH07CgogIGNhbmNlbC5yZW1vdmUoKTsKCiAgLy8gRGlzYWJsZSB0aGUgaW5wdXQgZWxlbWVudCBzaW5jZSBmdXJ0aGVyIHBpY2tzIGFyZSBub3QgYWxsb3dlZC4KICBpbnB1dEVsZW1lbnQuZGlzYWJsZWQgPSB0cnVlOwoKICBpZiAoIWZpbGVzKSB7CiAgICByZXR1cm4gewogICAgICByZXNwb25zZTogewogICAgICAgIGFjdGlvbjogJ2NvbXBsZXRlJywKICAgICAgfQogICAgfTsKICB9CgogIGZvciAoY29uc3QgZmlsZSBvZiBmaWxlcykgewogICAgY29uc3QgbGkgPSBkb2N1bWVudC5jcmVhdGVFbGVtZW50KCdsaScpOwogICAgbGkuYXBwZW5kKHNwYW4oZmlsZS5uYW1lLCB7Zm9udFdlaWdodDogJ2JvbGQnfSkpOwogICAgbGkuYXBwZW5kKHNwYW4oCiAgICAgICAgYCgke2ZpbGUudHlwZSB8fCAnbi9hJ30pIC0gJHtmaWxlLnNpemV9IGJ5dGVzLCBgICsKICAgICAgICBgbGFzdCBtb2RpZmllZDogJHsKICAgICAgICAgICAgZmlsZS5sYXN0TW9kaWZpZWREYXRlID8gZmlsZS5sYXN0TW9kaWZpZWREYXRlLnRvTG9jYWxlRGF0ZVN0cmluZygpIDoKICAgICAgICAgICAgICAgICAgICAgICAgICAgICAgICAgICAgJ24vYSd9IC0gYCkpOwogICAgY29uc3QgcGVyY2VudCA9IHNwYW4oJzAlIGRvbmUnKTsKICAgIGxpLmFwcGVuZENoaWxkKHBlcmNlbnQpOwoKICAgIG91dHB1dEVsZW1lbnQuYXBwZW5kQ2hpbGQobGkpOwoKICAgIGNvbnN0IGZpbGVEYXRhUHJvbWlzZSA9IG5ldyBQcm9taXNlKChyZXNvbHZlKSA9PiB7CiAgICAgIGNvbnN0IHJlYWRlciA9IG5ldyBGaWxlUmVhZGVyKCk7CiAgICAgIHJlYWRlci5vbmxvYWQgPSAoZSkgPT4gewogICAgICAgIHJlc29sdmUoZS50YXJnZXQucmVzdWx0KTsKICAgICAgfTsKICAgICAgcmVhZGVyLnJlYWRBc0FycmF5QnVmZmVyKGZpbGUpOwogICAgfSk7CiAgICAvLyBXYWl0IGZvciB0aGUgZGF0YSB0byBiZSByZWFkeS4KICAgIGxldCBmaWxlRGF0YSA9IHlpZWxkIHsKICAgICAgcHJvbWlzZTogZmlsZURhdGFQcm9taXNlLAogICAgICByZXNwb25zZTogewogICAgICAgIGFjdGlvbjogJ2NvbnRpbnVlJywKICAgICAgfQogICAgfTsKCiAgICAvLyBVc2UgYSBjaHVua2VkIHNlbmRpbmcgdG8gYXZvaWQgbWVzc2FnZSBzaXplIGxpbWl0cy4gU2VlIGIvNjIxMTU2NjAuCiAgICBsZXQgcG9zaXRpb24gPSAwOwogICAgZG8gewogICAgICBjb25zdCBsZW5ndGggPSBNYXRoLm1pbihmaWxlRGF0YS5ieXRlTGVuZ3RoIC0gcG9zaXRpb24sIE1BWF9QQVlMT0FEX1NJWkUpOwogICAgICBjb25zdCBjaHVuayA9IG5ldyBVaW50OEFycmF5KGZpbGVEYXRhLCBwb3NpdGlvbiwgbGVuZ3RoKTsKICAgICAgcG9zaXRpb24gKz0gbGVuZ3RoOwoKICAgICAgY29uc3QgYmFzZTY0ID0gYnRvYShTdHJpbmcuZnJvbUNoYXJDb2RlLmFwcGx5KG51bGwsIGNodW5rKSk7CiAgICAgIHlpZWxkIHsKICAgICAgICByZXNwb25zZTogewogICAgICAgICAgYWN0aW9uOiAnYXBwZW5kJywKICAgICAgICAgIGZpbGU6IGZpbGUubmFtZSwKICAgICAgICAgIGRhdGE6IGJhc2U2NCwKICAgICAgICB9LAogICAgICB9OwoKICAgICAgbGV0IHBlcmNlbnREb25lID0gZmlsZURhdGEuYnl0ZUxlbmd0aCA9PT0gMCA/CiAgICAgICAgICAxMDAgOgogICAgICAgICAgTWF0aC5yb3VuZCgocG9zaXRpb24gLyBmaWxlRGF0YS5ieXRlTGVuZ3RoKSAqIDEwMCk7CiAgICAgIHBlcmNlbnQudGV4dENvbnRlbnQgPSBgJHtwZXJjZW50RG9uZX0lIGRvbmVgOwoKICAgIH0gd2hpbGUgKHBvc2l0aW9uIDwgZmlsZURhdGEuYnl0ZUxlbmd0aCk7CiAgfQoKICAvLyBBbGwgZG9uZS4KICB5aWVsZCB7CiAgICByZXNwb25zZTogewogICAgICBhY3Rpb246ICdjb21wbGV0ZScsCiAgICB9CiAgfTsKfQoKc2NvcGUuZ29vZ2xlID0gc2NvcGUuZ29vZ2xlIHx8IHt9OwpzY29wZS5nb29nbGUuY29sYWIgPSBzY29wZS5nb29nbGUuY29sYWIgfHwge307CnNjb3BlLmdvb2dsZS5jb2xhYi5fZmlsZXMgPSB7CiAgX3VwbG9hZEZpbGVzLAogIF91cGxvYWRGaWxlc0NvbnRpbnVlLAp9Owp9KShzZWxmKTsK",
              "ok": true,
              "headers": [
                [
                  "content-type",
                  "application/javascript"
                ]
              ],
              "status": 200,
              "status_text": ""
            }
          },
          "base_uri": "https://localhost:8080/",
          "height": 74
        }
      },
      "execution_count": 2,
      "outputs": [
        {
          "output_type": "display_data",
          "data": {
            "text/plain": [
              "<IPython.core.display.HTML object>"
            ],
            "text/html": [
              "\n",
              "     <input type=\"file\" id=\"files-49a889ad-6fc9-45d1-8242-d12320131c9a\" name=\"files[]\" multiple disabled\n",
              "        style=\"border:none\" />\n",
              "     <output id=\"result-49a889ad-6fc9-45d1-8242-d12320131c9a\">\n",
              "      Upload widget is only available when the cell has been executed in the\n",
              "      current browser session. Please rerun this cell to enable.\n",
              "      </output>\n",
              "      <script src=\"/nbextensions/google.colab/files.js\"></script> "
            ]
          },
          "metadata": {}
        },
        {
          "output_type": "stream",
          "name": "stdout",
          "text": [
            "Saving kaggle.json to kaggle.json\n"
          ]
        }
      ]
    },
    {
      "cell_type": "code",
      "source": [
        "import os\n",
        "os.environ['KAGGLE_CONFIG_DIR'] = \"/content\"\n",
        "! chmod 600 /content/kaggle.json\n",
        "! kaggle datasets download solarmainframe/ids-intrusion-csv\n",
        "! mkdir dataset\n",
        "! unzip /content/ids-intrusion-csv.zip -d '/content/dataset'"
      ],
      "metadata": {
        "id": "M4KgoM8_T7co",
        "outputId": "44209c15-723f-4e34-b217-9c0f34a76588",
        "colab": {
          "base_uri": "https://localhost:8080/"
        }
      },
      "execution_count": 3,
      "outputs": [
        {
          "output_type": "stream",
          "name": "stdout",
          "text": [
            "Downloading ids-intrusion-csv.zip to /content\n",
            " 99% 1.59G/1.60G [00:15<00:00, 99.9MB/s]\n",
            "100% 1.60G/1.60G [00:15<00:00, 113MB/s] \n",
            "Archive:  /content/ids-intrusion-csv.zip\n",
            "  inflating: /content/dataset/02-14-2018.csv  \n",
            "  inflating: /content/dataset/02-15-2018.csv  \n",
            "  inflating: /content/dataset/02-16-2018.csv  \n",
            "  inflating: /content/dataset/02-20-2018.csv  \n",
            "  inflating: /content/dataset/02-21-2018.csv  \n",
            "  inflating: /content/dataset/02-22-2018.csv  \n",
            "  inflating: /content/dataset/02-23-2018.csv  \n",
            "  inflating: /content/dataset/02-28-2018.csv  \n",
            "  inflating: /content/dataset/03-01-2018.csv  \n",
            "  inflating: /content/dataset/03-02-2018.csv  \n"
          ]
        }
      ]
    },
    {
      "cell_type": "code",
      "source": [
        "dtp = {}\n",
        "drp = [\"Timestamp\"]"
      ],
      "metadata": {
        "id": "xTme_kqIU9Zt"
      },
      "execution_count": 5,
      "outputs": []
    },
    {
      "cell_type": "code",
      "source": [
        "df=pd.read_csv('/content/dataset/02-14-2018.csv',dtype=dtp,usecols=lambda x: x not in drp)"
      ],
      "metadata": {
        "id": "XIFnUy_TUOn4"
      },
      "execution_count": 6,
      "outputs": []
    },
    {
      "cell_type": "code",
      "source": [
        "for i, name in enumerate(df.columns):\n",
        "  if name=='Label':\n",
        "    pass\n",
        "  if len(df[name].unique())<10:\n",
        "    dtp[name]=\"category\"\n",
        "  \n",
        "  elif df[name].dtype==\"int64\":\n",
        "    if df[name].min()>=0:\n",
        "      if df[name].max()<=255:\n",
        "        dtp[name]=\"uint8\"\n",
        "      elif df[name].max()<=65535:\n",
        "        dtp[name]=\"uint16\"\n",
        "      elif df[name].max()<=2147483647:\n",
        "        dtp[name]=\"uint32\"\n",
        "    else:\n",
        "      if df[name].min()>=-128 and df[name].max()<=127:\n",
        "        dtp[name]=\"int8\"\n",
        "      elif df[name].min()>=-32768 and df[name].max()<=32767:\n",
        "        dtp[name]=\"int16\"\n",
        "      elif df[name].min()>=-2147483648 and df[name].max()<=2147483647:\n",
        "        dtp[name]=\"int32\"\n",
        "  else:\n",
        "      if df[name].min()>=-2147483648 and df[name].max()<=2147483647:\n",
        "        dtp[name]=\"float32\"\n",
        "  \n",
        "print(dtp)"
      ],
      "metadata": {
        "colab": {
          "base_uri": "https://localhost:8080/"
        },
        "id": "ZhcjftEWHTNe",
        "outputId": "20b8e8dc-8139-4f01-a836-c2100e403336"
      },
      "execution_count": 7,
      "outputs": [
        {
          "output_type": "stream",
          "name": "stdout",
          "text": [
            "{'Dst Port': 'uint16', 'Protocol': 'category', 'Tot Fwd Pkts': 'uint16', 'Tot Bwd Pkts': 'uint16', 'TotLen Fwd Pkts': 'uint32', 'TotLen Bwd Pkts': 'uint32', 'Fwd Pkt Len Max': 'uint16', 'Fwd Pkt Len Min': 'uint16', 'Fwd Pkt Len Mean': 'float32', 'Fwd Pkt Len Std': 'float32', 'Bwd Pkt Len Max': 'uint16', 'Bwd Pkt Len Min': 'uint16', 'Bwd Pkt Len Mean': 'float32', 'Bwd Pkt Len Std': 'float32', 'Bwd IAT Tot': 'uint32', 'Bwd IAT Mean': 'float32', 'Bwd IAT Std': 'float32', 'Bwd IAT Max': 'uint32', 'Bwd IAT Min': 'uint32', 'Fwd PSH Flags': 'category', 'Bwd PSH Flags': 'category', 'Fwd URG Flags': 'category', 'Bwd URG Flags': 'category', 'Fwd Header Len': 'uint32', 'Bwd Header Len': 'uint32', 'Fwd Pkts/s': 'float32', 'Bwd Pkts/s': 'float32', 'Pkt Len Min': 'uint16', 'Pkt Len Max': 'uint16', 'Pkt Len Mean': 'float32', 'Pkt Len Std': 'float32', 'Pkt Len Var': 'float32', 'FIN Flag Cnt': 'category', 'SYN Flag Cnt': 'category', 'RST Flag Cnt': 'category', 'PSH Flag Cnt': 'category', 'ACK Flag Cnt': 'category', 'URG Flag Cnt': 'category', 'CWE Flag Count': 'category', 'ECE Flag Cnt': 'category', 'Down/Up Ratio': 'uint8', 'Pkt Size Avg': 'float32', 'Fwd Seg Size Avg': 'float32', 'Bwd Seg Size Avg': 'float32', 'Fwd Byts/b Avg': 'category', 'Fwd Pkts/b Avg': 'category', 'Fwd Blk Rate Avg': 'category', 'Bwd Byts/b Avg': 'category', 'Bwd Pkts/b Avg': 'category', 'Bwd Blk Rate Avg': 'category', 'Subflow Fwd Pkts': 'uint16', 'Subflow Fwd Byts': 'uint32', 'Subflow Bwd Pkts': 'uint16', 'Subflow Bwd Byts': 'uint32', 'Init Fwd Win Byts': 'int32', 'Init Bwd Win Byts': 'int32', 'Fwd Act Data Pkts': 'uint16', 'Fwd Seg Size Min': 'uint8', 'Active Mean': 'float32', 'Active Std': 'float32', 'Active Max': 'uint32', 'Active Min': 'uint32', 'Label': 'category'}\n"
          ]
        }
      ]
    },
    {
      "cell_type": "code",
      "source": [
        "df=pd.read_csv('/content/dataset/02-14-2018.csv',dtype=dtp,usecols=lambda x: x not in drp)"
      ],
      "metadata": {
        "id": "JGSbiBgPJ4WM"
      },
      "execution_count": 8,
      "outputs": []
    },
    {
      "cell_type": "code",
      "source": [
        "pd.set_option('display.max_rows', 500)\n",
        "for i, name in enumerate(df.columns):\n",
        "    # print(f'\"{name}\":{{\"dtype\":{df[name].dtype}, \"min\":{df[name].min()}, \"max\":{df[name].max()}}} {\",\" if i>(len(df.columns)-1) else \"\"}')\n",
        "    print(f'\"{name}\":{{\"dtype\":{df[name].dtype}, \"min\":{len(df[name].unique())}}} {\",\" if i>(len(df.columns)-1) else \"\"}')\n",
        "print(\"}\") "
      ],
      "metadata": {
        "id": "QxZhLAW4WbFC",
        "outputId": "1b8a8f29-966d-4bf9-aa74-a913a860c5f8",
        "colab": {
          "base_uri": "https://localhost:8080/"
        }
      },
      "execution_count": 9,
      "outputs": [
        {
          "output_type": "stream",
          "name": "stdout",
          "text": [
            "\"Dst Port\":{\"dtype\":uint16, \"min\":18567} \n",
            "\"Protocol\":{\"dtype\":category, \"min\":3} \n",
            "\"Flow Duration\":{\"dtype\":int64, \"min\":389493} \n",
            "\"Tot Fwd Pkts\":{\"dtype\":uint16, \"min\":751} \n",
            "\"Tot Bwd Pkts\":{\"dtype\":uint16, \"min\":988} \n",
            "\"TotLen Fwd Pkts\":{\"dtype\":uint32, \"min\":5842} \n",
            "\"TotLen Bwd Pkts\":{\"dtype\":uint32, \"min\":15656} \n",
            "\"Fwd Pkt Len Max\":{\"dtype\":uint16, \"min\":1390} \n",
            "\"Fwd Pkt Len Min\":{\"dtype\":uint16, \"min\":112} \n",
            "\"Fwd Pkt Len Mean\":{\"dtype\":float32, \"min\":17879} \n",
            "\"Fwd Pkt Len Std\":{\"dtype\":float32, \"min\":27491} \n",
            "\"Bwd Pkt Len Max\":{\"dtype\":uint16, \"min\":958} \n",
            "\"Bwd Pkt Len Min\":{\"dtype\":uint16, \"min\":270} \n",
            "\"Bwd Pkt Len Mean\":{\"dtype\":float32, \"min\":24517} \n",
            "\"Bwd Pkt Len Std\":{\"dtype\":float32, \"min\":28813} \n",
            "\"Flow Byts/s\":{\"dtype\":float64, \"min\":454333} \n",
            "\"Flow Pkts/s\":{\"dtype\":float64, \"min\":417167} \n",
            "\"Flow IAT Mean\":{\"dtype\":float64, \"min\":418622} \n",
            "\"Flow IAT Std\":{\"dtype\":float64, \"min\":416669} \n",
            "\"Flow IAT Max\":{\"dtype\":int64, \"min\":295378} \n",
            "\"Flow IAT Min\":{\"dtype\":int64, \"min\":66507} \n",
            "\"Fwd IAT Tot\":{\"dtype\":int64, \"min\":352376} \n",
            "\"Fwd IAT Mean\":{\"dtype\":float64, \"min\":373758} \n",
            "\"Fwd IAT Std\":{\"dtype\":float64, \"min\":341531} \n",
            "\"Fwd IAT Max\":{\"dtype\":int64, \"min\":303763} \n",
            "\"Fwd IAT Min\":{\"dtype\":int64, \"min\":89620} \n",
            "\"Bwd IAT Tot\":{\"dtype\":uint32, \"min\":293735} \n",
            "\"Bwd IAT Mean\":{\"dtype\":float32, \"min\":307385} \n",
            "\"Bwd IAT Std\":{\"dtype\":float32, \"min\":328081} \n",
            "\"Bwd IAT Max\":{\"dtype\":uint32, \"min\":222886} \n",
            "\"Bwd IAT Min\":{\"dtype\":uint32, \"min\":108796} \n",
            "\"Fwd PSH Flags\":{\"dtype\":category, \"min\":2} \n",
            "\"Bwd PSH Flags\":{\"dtype\":category, \"min\":1} \n",
            "\"Fwd URG Flags\":{\"dtype\":category, \"min\":1} \n",
            "\"Bwd URG Flags\":{\"dtype\":category, \"min\":1} \n",
            "\"Fwd Header Len\":{\"dtype\":uint32, \"min\":1237} \n",
            "\"Bwd Header Len\":{\"dtype\":uint32, \"min\":1843} \n",
            "\"Fwd Pkts/s\":{\"dtype\":float32, \"min\":406269} \n",
            "\"Bwd Pkts/s\":{\"dtype\":float32, \"min\":359447} \n",
            "\"Pkt Len Min\":{\"dtype\":uint16, \"min\":80} \n",
            "\"Pkt Len Max\":{\"dtype\":uint16, \"min\":1139} \n",
            "\"Pkt Len Mean\":{\"dtype\":float32, \"min\":36030} \n",
            "\"Pkt Len Std\":{\"dtype\":float32, \"min\":42490} \n",
            "\"Pkt Len Var\":{\"dtype\":float32, \"min\":42525} \n",
            "\"FIN Flag Cnt\":{\"dtype\":category, \"min\":2} \n",
            "\"SYN Flag Cnt\":{\"dtype\":category, \"min\":2} \n",
            "\"RST Flag Cnt\":{\"dtype\":category, \"min\":2} \n",
            "\"PSH Flag Cnt\":{\"dtype\":category, \"min\":2} \n",
            "\"ACK Flag Cnt\":{\"dtype\":category, \"min\":2} \n",
            "\"URG Flag Cnt\":{\"dtype\":category, \"min\":2} \n",
            "\"CWE Flag Count\":{\"dtype\":category, \"min\":1} \n",
            "\"ECE Flag Cnt\":{\"dtype\":category, \"min\":2} \n",
            "\"Down/Up Ratio\":{\"dtype\":uint8, \"min\":33} \n",
            "\"Pkt Size Avg\":{\"dtype\":float32, \"min\":35682} \n",
            "\"Fwd Seg Size Avg\":{\"dtype\":float32, \"min\":17879} \n",
            "\"Bwd Seg Size Avg\":{\"dtype\":float32, \"min\":24517} \n",
            "\"Fwd Byts/b Avg\":{\"dtype\":category, \"min\":1} \n",
            "\"Fwd Pkts/b Avg\":{\"dtype\":category, \"min\":1} \n",
            "\"Fwd Blk Rate Avg\":{\"dtype\":category, \"min\":1} \n",
            "\"Bwd Byts/b Avg\":{\"dtype\":category, \"min\":1} \n",
            "\"Bwd Pkts/b Avg\":{\"dtype\":category, \"min\":1} \n",
            "\"Bwd Blk Rate Avg\":{\"dtype\":category, \"min\":1} \n",
            "\"Subflow Fwd Pkts\":{\"dtype\":uint16, \"min\":751} \n",
            "\"Subflow Fwd Byts\":{\"dtype\":uint32, \"min\":5842} \n",
            "\"Subflow Bwd Pkts\":{\"dtype\":uint16, \"min\":988} \n",
            "\"Subflow Bwd Byts\":{\"dtype\":uint32, \"min\":15656} \n",
            "\"Init Fwd Win Byts\":{\"dtype\":int32, \"min\":3308} \n",
            "\"Init Bwd Win Byts\":{\"dtype\":int32, \"min\":3547} \n",
            "\"Fwd Act Data Pkts\":{\"dtype\":uint16, \"min\":112} \n",
            "\"Fwd Seg Size Min\":{\"dtype\":uint8, \"min\":10} \n",
            "\"Active Mean\":{\"dtype\":float32, \"min\":73589} \n",
            "\"Active Std\":{\"dtype\":float32, \"min\":55361} \n",
            "\"Active Max\":{\"dtype\":uint32, \"min\":71437} \n",
            "\"Active Min\":{\"dtype\":uint32, \"min\":38864} \n",
            "\"Idle Mean\":{\"dtype\":float64, \"min\":80419} \n",
            "\"Idle Std\":{\"dtype\":float64, \"min\":57847} \n",
            "\"Idle Max\":{\"dtype\":int64, \"min\":59134} \n",
            "\"Idle Min\":{\"dtype\":int64, \"min\":69046} \n",
            "\"Label\":{\"dtype\":category, \"min\":3} \n",
            "}\n"
          ]
        }
      ]
    },
    {
      "cell_type": "code",
      "source": [
        "d2 = pd.read_csv('/content/dataset/02-15-2018.csv',dtype=dtp,usecols=lambda x: x not in drp)"
      ],
      "metadata": {
        "id": "mmUsROlEPOS3"
      },
      "execution_count": 10,
      "outputs": []
    },
    {
      "cell_type": "code",
      "source": [
        "d3 = pd.read_csv('/content/dataset/02-16-2018.csv',usecols=lambda x: x not in drp)"
      ],
      "metadata": {
        "id": "YKHvfrnFPm4Z",
        "outputId": "04190c95-aed8-4c24-c507-00fcfe94a09b",
        "colab": {
          "base_uri": "https://localhost:8080/"
        }
      },
      "execution_count": 29,
      "outputs": [
        {
          "output_type": "stream",
          "name": "stderr",
          "text": [
            "/usr/local/lib/python3.7/dist-packages/IPython/core/interactiveshell.py:2882: DtypeWarning: Columns (0,1,3,4,5,6,7,8,9,10,11,12,13,14,15,16,17,18,19,20,21,22,23,24,25,26,27,28,29,30,31,32,33,34,35,36,37,38,39,40,41,42,43,44,45,46,47,48,49,50,51,52,53,54,55,56,57,58,59,60,61,62,63,64,65,66,67,68,69,70,71,72,73,74,75,76,77,78) have mixed types.Specify dtype option on import or set low_memory=False.\n",
            "  exec(code_obj, self.user_global_ns, self.user_ns)\n"
          ]
        }
      ]
    },
    {
      "cell_type": "code",
      "source": [
        "pd.set_option('display.max_rows', 500)\n",
        "for i, name in enumerate(d3.columns):\n",
        "    # print(f'\"{name}\":{{\"dtype\":{df[name].dtype}, \"min\":{df[name].min()}, \"max\":{df[name].max()}}} {\",\" if i>(len(df.columns)-1) else \"\"}')\n",
        "    print(f'\"{name}\":{{\"dtype\":{d3[name].dtype}, \"min\":{len(d3[name].unique())}}} {\",\" if i>(len(d3.columns)-1) else \"\"}')\n",
        "print(\"}\") "
      ],
      "metadata": {
        "id": "EV_pw6bRQA-4",
        "outputId": "6c3859e6-99c1-4c19-8860-5e02e12f72fa",
        "colab": {
          "base_uri": "https://localhost:8080/"
        }
      },
      "execution_count": 14,
      "outputs": [
        {
          "output_type": "stream",
          "name": "stdout",
          "text": [
            "\"Dst Port\":{\"dtype\":object, \"min\":14464} \n",
            "\"Protocol\":{\"dtype\":object, \"min\":7} \n",
            "\"Flow Duration\":{\"dtype\":object, \"min\":453876} \n",
            "\"Tot Fwd Pkts\":{\"dtype\":object, \"min\":43} \n",
            "\"Tot Bwd Pkts\":{\"dtype\":object, \"min\":37} \n",
            "\"TotLen Fwd Pkts\":{\"dtype\":object, \"min\":481} \n",
            "\"TotLen Bwd Pkts\":{\"dtype\":object, \"min\":862} \n",
            "\"Fwd Pkt Len Max\":{\"dtype\":object, \"min\":182} \n",
            "\"Fwd Pkt Len Min\":{\"dtype\":object, \"min\":7} \n",
            "\"Fwd Pkt Len Mean\":{\"dtype\":object, \"min\":936} \n",
            "\"Fwd Pkt Len Std\":{\"dtype\":object, \"min\":974} \n",
            "\"Bwd Pkt Len Max\":{\"dtype\":object, \"min\":269} \n",
            "\"Bwd Pkt Len Min\":{\"dtype\":object, \"min\":6} \n",
            "\"Bwd Pkt Len Mean\":{\"dtype\":object, \"min\":1629} \n",
            "\"Bwd Pkt Len Std\":{\"dtype\":object, \"min\":1355} \n",
            "\"Flow Byts/s\":{\"dtype\":object, \"min\":466738} \n",
            "\"Flow Pkts/s\":{\"dtype\":object, \"min\":490239} \n",
            "\"Flow IAT Mean\":{\"dtype\":object, \"min\":482016} \n",
            "\"Flow IAT Std\":{\"dtype\":object, \"min\":495263} \n",
            "\"Flow IAT Max\":{\"dtype\":object, \"min\":408374} \n",
            "\"Flow IAT Min\":{\"dtype\":object, \"min\":59293} \n",
            "\"Fwd IAT Tot\":{\"dtype\":object, \"min\":444573} \n",
            "\"Fwd IAT Mean\":{\"dtype\":object, \"min\":453999} \n",
            "\"Fwd IAT Std\":{\"dtype\":object, \"min\":483928} \n",
            "\"Fwd IAT Max\":{\"dtype\":object, \"min\":413892} \n",
            "\"Fwd IAT Min\":{\"dtype\":object, \"min\":60511} \n",
            "\"Bwd IAT Tot\":{\"dtype\":object, \"min\":201982} \n",
            "\"Bwd IAT Mean\":{\"dtype\":object, \"min\":216668} \n",
            "\"Bwd IAT Std\":{\"dtype\":object, \"min\":237517} \n",
            "\"Bwd IAT Max\":{\"dtype\":object, \"min\":185603} \n",
            "\"Bwd IAT Min\":{\"dtype\":object, \"min\":39421} \n",
            "\"Fwd PSH Flags\":{\"dtype\":object, \"min\":5} \n",
            "\"Bwd PSH Flags\":{\"dtype\":object, \"min\":3} \n",
            "\"Fwd URG Flags\":{\"dtype\":object, \"min\":3} \n",
            "\"Bwd URG Flags\":{\"dtype\":object, \"min\":3} \n",
            "\"Fwd Header Len\":{\"dtype\":object, \"min\":80} \n",
            "\"Bwd Header Len\":{\"dtype\":object, \"min\":76} \n",
            "\"Fwd Pkts/s\":{\"dtype\":object, \"min\":471211} \n",
            "\"Bwd Pkts/s\":{\"dtype\":object, \"min\":406414} \n",
            "\"Pkt Len Min\":{\"dtype\":object, \"min\":5} \n",
            "\"Pkt Len Max\":{\"dtype\":object, \"min\":35} \n",
            "\"Pkt Len Mean\":{\"dtype\":object, \"min\":2199} \n",
            "\"Pkt Len Std\":{\"dtype\":object, \"min\":2289} \n",
            "\"Pkt Len Var\":{\"dtype\":object, \"min\":2289} \n",
            "\"FIN Flag Cnt\":{\"dtype\":object, \"min\":4} \n",
            "\"SYN Flag Cnt\":{\"dtype\":object, \"min\":5} \n",
            "\"RST Flag Cnt\":{\"dtype\":object, \"min\":5} \n",
            "\"PSH Flag Cnt\":{\"dtype\":object, \"min\":5} \n",
            "\"ACK Flag Cnt\":{\"dtype\":object, \"min\":5} \n",
            "\"URG Flag Cnt\":{\"dtype\":object, \"min\":5} \n",
            "\"CWE Flag Count\":{\"dtype\":object, \"min\":3} \n",
            "\"ECE Flag Cnt\":{\"dtype\":object, \"min\":5} \n",
            "\"Down/Up Ratio\":{\"dtype\":object, \"min\":10} \n",
            "\"Pkt Size Avg\":{\"dtype\":object, \"min\":2192} \n",
            "\"Fwd Seg Size Avg\":{\"dtype\":object, \"min\":936} \n",
            "\"Bwd Seg Size Avg\":{\"dtype\":object, \"min\":1629} \n",
            "\"Fwd Byts/b Avg\":{\"dtype\":object, \"min\":3} \n",
            "\"Fwd Pkts/b Avg\":{\"dtype\":object, \"min\":3} \n",
            "\"Fwd Blk Rate Avg\":{\"dtype\":object, \"min\":3} \n",
            "\"Bwd Byts/b Avg\":{\"dtype\":object, \"min\":3} \n",
            "\"Bwd Pkts/b Avg\":{\"dtype\":object, \"min\":3} \n",
            "\"Bwd Blk Rate Avg\":{\"dtype\":object, \"min\":3} \n",
            "\"Subflow Fwd Pkts\":{\"dtype\":object, \"min\":43} \n",
            "\"Subflow Fwd Byts\":{\"dtype\":object, \"min\":481} \n",
            "\"Subflow Bwd Pkts\":{\"dtype\":object, \"min\":37} \n",
            "\"Subflow Bwd Byts\":{\"dtype\":object, \"min\":862} \n",
            "\"Init Fwd Win Byts\":{\"dtype\":object, \"min\":42} \n",
            "\"Init Bwd Win Byts\":{\"dtype\":object, \"min\":37} \n",
            "\"Fwd Act Data Pkts\":{\"dtype\":object, \"min\":25} \n",
            "\"Fwd Seg Size Min\":{\"dtype\":object, \"min\":11} \n",
            "\"Active Mean\":{\"dtype\":object, \"min\":5696} \n",
            "\"Active Std\":{\"dtype\":object, \"min\":19} \n",
            "\"Active Max\":{\"dtype\":object, \"min\":5697} \n",
            "\"Active Min\":{\"dtype\":object, \"min\":5696} \n",
            "\"Idle Mean\":{\"dtype\":object, \"min\":46002} \n",
            "\"Idle Std\":{\"dtype\":object, \"min\":138} \n",
            "\"Idle Max\":{\"dtype\":object, \"min\":46002} \n",
            "\"Idle Min\":{\"dtype\":object, \"min\":46002} \n",
            "\"Label\":{\"dtype\":object, \"min\":4} \n",
            "}\n"
          ]
        }
      ]
    },
    {
      "cell_type": "code",
      "source": [
        "# d3['Dst Port'] = d3['Dst Port'].astype(str).astype(int)\n",
        "d3['Dst Port'] = pd.to_numeric(d3['Dst Port'], errors='coerce').convert_dtypes()\n",
        "d3['Dst Port'].unique()"
      ],
      "metadata": {
        "id": "9Xg_KFflQskG",
        "outputId": "d7dd4697-bf61-4dbd-8126-1979bdd344e5",
        "colab": {
          "base_uri": "https://localhost:8080/"
        }
      },
      "execution_count": 22,
      "outputs": [
        {
          "output_type": "execute_result",
          "data": {
            "text/plain": [
              "<IntegerArray>\n",
              "[    0, 35605,    23,    80,    67,    22, 40298, 51636, 51630, 44366,\n",
              " ...\n",
              " 55758, 56302, 58502, 53094, 43516, 36024, 36200, 49922, 59024,  <NA>]\n",
              "Length: 14137, dtype: Int64"
            ]
          },
          "metadata": {},
          "execution_count": 22
        }
      ]
    },
    {
      "cell_type": "code",
      "source": [
        "d3['Fwd Pkt Len Mean'].unique()"
      ],
      "metadata": {
        "id": "5JIupNsmT7si",
        "outputId": "a6e1503d-00ba-4c2d-da2d-a4d912213a60",
        "colab": {
          "base_uri": "https://localhost:8080/"
        }
      },
      "execution_count": 23,
      "outputs": [
        {
          "output_type": "execute_result",
          "data": {
            "text/plain": [
              "array([0.0, 105.0434783, 13.5625, 10.625, 12.42372881, 8.497584541, 300.0,\n",
              "       155.5, 84.31205674, 88.5, 106.3, 424.0, 118.1111111, 82.6, 111.25,\n",
              "       96.5, 121.3636364, 145.75, 28.0, 8.666666667, 90.06666667, 697.6,\n",
              "       42.66666667, 83.4375, 161.2307692, 95.25, 21.33333333, 149.3333333,\n",
              "       99.2, 103.6363636, 65.41176471, 78.52941176, 78.28571429,\n",
              "       184.5714286, 7.8, 103.9090909, 95.35714286, 87.88888889, 212.0,\n",
              "       20.5, 89.0, 581.3333333, 32.0, 29.0, 84.4375, 121.3333333, 100.0,\n",
              "       119.6666667, 128.0, 117.3333333, 138.0, 116.0, 113.3333333,\n",
              "       116.3333333, 120.0, 108.6666667, 114.6666667, 128.6666667,\n",
              "       109.3333333, 127.6666667, 122.3333333, 106.3333333, 97.0, 125.0,\n",
              "       117.6666667, 123.0, 125.3333333, 111.6666667, 96.33333333,\n",
              "       99.33333333, 114.3333333, 112.0, 105.3333333, 103.0, 115.0,\n",
              "       119.3333333, 109.0, 122.6666667, 114.0, 124.6666667, 118.6666667,\n",
              "       108.3333333, 95.0, 112.3333333, 131.0, 124.0, 98.33333333,\n",
              "       100.6666667, 123.6666667, 121.6666667, 116.6666667, 117.0,\n",
              "       107.3333333, 104.6666667, 103.3333333, 107.0, 138.3333333,\n",
              "       115.3333333, 136.3333333, 137.0, 119.0, 132.3333333, 99.25, 113.0,\n",
              "       98.0, 122.0, 118.3333333, 124.3333333, 88.0, 111.3333333, 102.0,\n",
              "       96.66666667, 110.6666667, 110.3333333, 123.3333333, 102.6666667,\n",
              "       58.8, 125.6666667, 99.66666667, 135.6666667, 138.6666667, 110.0,\n",
              "       70.4, 98.66666667, 115.6666667, 120.3333333, 126.6666667, 101.0,\n",
              "       103.6666667, 136.6666667, 106.6666667, 107.6666667, 130.0, 132.0,\n",
              "       135.3333333, 111.0, 108.0, 129.3333333, 106.0, 91.75, 130.3333333,\n",
              "       109.6666667, 131.6666667, 71.8, 99.0, 113.6666667, 112.6666667,\n",
              "       118.0, 105.0, 87.0, 95.75, 126.3333333, 136.0, 75.4, 120.6666667,\n",
              "       64.8, 121.0, 101.6666667, 101.3333333, 127.0, 105.6666667,\n",
              "       132.6666667, 104.0, 133.3333333, 93.5, 133.0, 137.6666667,\n",
              "       100.3333333, 69.6, 104.3333333, 134.3333333, 126.0, 89.25,\n",
              "       102.3333333, 65.6, 137.3333333, 71.75, 95.66666667, 97.66666667,\n",
              "       72.8, 80.5, 96.0, 127.3333333, 86.5, 130.6666667, 69.4, 67.8, 64.4,\n",
              "       72.6, 61.0, 75.6, 133.6666667, 134.0, 139.0, 95.33333333, 69.2,\n",
              "       81.0, 128.3333333, 131.3333333, 74.8, 91.0, 71.6, 75.2, 95.5,\n",
              "       129.6666667, 72.75, 94.25, 66.6, 62.4, 61.8, 97.33333333, 75.75,\n",
              "       129.0, 62.0, 76.25, 79.5, 90.5, 76.75, 86.75, 102.5, 84.0, 104.25,\n",
              "       139.6666667, 70.8, 74.0, 92.25, 94.33333333, 73.8, 70.0, 78.4,\n",
              "       68.2, 63.8, 68.6, 72.0, 73.5, 81.75, 99.5, 58.4, 66.0, 97.25,\n",
              "       88.25, 80.75, 76.5, 66.4, 89.75, 77.75, 79.75, 81.25, 79.25, 76.0,\n",
              "       97.5, 140.0, 134.6666667, 135.0, 81.5, 78.5, 92.5, 67.0, 60.8,\n",
              "       94.5, 76.6, 90.0, 72.2, 84.75, 84.25, 82.0, 94.66666667, 86.25,\n",
              "       70.6, 87.75, 94.75, 85.5, 78.0, 93.66666667, 61.4, 90.25, 65.2,\n",
              "       139.3333333, 64.0, 87.25, 62.2, 140.3333333, 65.0, 101.5, 65.4,\n",
              "       73.4, 71.0, 87.5, 75.0, 80.25, 173.5, 210.5, 178.5, 167.0, 179.5,\n",
              "       207.5, 205.0, 168.0, 205.5, 186.0, 156.0, 148.0, 179.0, 80.0,\n",
              "       189.5, 177.5, 176.5, 169.5, 154.0, 94.0, 83.75, 81.8, 70.2, 67.4,\n",
              "       65.8, 71.4, 92.75, 184.0, 164.0, 140.8, 161.0, 153.5, 212.4, 219.0,\n",
              "       73.6, 68.0, 88.75, 78.25, 144.5, 174.0, 73.0, 75.25, 68.4, 82.75,\n",
              "       180.5, 206.5, 167.5, 161.5, 150.0, 174.5, 185.0, 152.0, 164.5,\n",
              "       181.5, 176.0, 246.0, 60.6, 91.5, 91.25, 182.0, 187.5, 180.0, 59.0,\n",
              "       92.0, 82.25, 97.75, 74.2, 217.8, 202.8, 192.6, 86.0, 93.75, 75.5,\n",
              "       79.8, 159.0, 85.25, 84.5, 172.0, 103.25, 171.0, 140.6666667, 89.5,\n",
              "       93.0, 160.5, 147.0, 158.0, 61.6, 60.0, 83.0, 59.6, 100.25, 154.5,\n",
              "       166.5, 184.5, 149.0, 189.0, 208.2, 248.4, 85.0, 150.5, 162.5,\n",
              "       187.0, 153.0, 145.5, 143.5, 192.5, 178.0, 181.0, 173.0, 156.5,\n",
              "       201.0, 215.4, 218.4, 243.6, 104.75, 93.25, 207.0, 136.8, 186.5,\n",
              "       190.5, 169.0, 188.0, 72.25, 82.5, 234.0, 239.3333333, 244.0,\n",
              "       252.6666667, 226.6666667, 213.3333333, 162.0, 83.5, 77.0, 73.75,\n",
              "       144.0, 177.0, 142.8, 132.4, 149.2, 147.6, 147.2, 160.4, 119.2,\n",
              "       134.8, 143.6, 206.0, 197.5, 142.0, 146.5, 209.5, 102.75, 204.5,\n",
              "       100.5, 99.75, 143.0, 227.4, 195.0, 225.0, 201.6, 237.6, 204.6,\n",
              "       222.6, 175.8, 213.0, 226.8, 193.8, 196.8, 207.6, 199.0, 233.75,\n",
              "       54.66666667, 62.66666667, 230.0, 104.5, 103.5, 98.5, 96.75, 133.6,\n",
              "       121.2, 185.5, 150.4, 127.2, 85.75, 71.25, 139.2, 77.5, 78.75,\n",
              "       77.25, 172.5, 214.8571429, 201.5, 122.8, 98.75, 73.25, 137.2,\n",
              "       159.5, 196.0, 222.5, 155.8333333, 74.25, 64.6, 69.0, 58.33333333,\n",
              "       62.33333333, 91.71428571, 54.5, 83.25, 59.4, 57.33333333, 130.4,\n",
              "       69.8, 72.5, 202.8571429, 53.83333333, 102.25, 74.5, 144.4, 151.2,\n",
              "       128.8, 120.8, 157.6, 79.0, 90.75, 55.83333333, 60.83333333, 170.5,\n",
              "       63.2, 57.66666667, 57.8, 60.4, 57.16666667, 71.5, 74.75, 103.75,\n",
              "       62.5, 82.2, 73.2, 141.6, 149.6, 138.4, 148.4, 154.8, 61.2, 63.0,\n",
              "       187.4285714, 145.2, 74.4, 58.2, 78.2, 63.6, 119.6, 130.8,\n",
              "       60.16666667, 57.83333333, 215.4285714, 54.16666667, 216.0,\n",
              "       53.66666667, 54.33333333, 83.4, 59.2, 137.6, 171.5, 122.4, 148.5,\n",
              "       155.0, 164.4, 52.5, 58.0, 79.6, 143.2, 142.4, 138.8, 56.83333333,\n",
              "       50.0, 59.66666667, 61.83333333, 52.83333333, 66.8, 71.2, 63.4,\n",
              "       78.6, 156.8, 161.6, 145.6, 129.6, 146.4, 146.8, 97.14285714,\n",
              "       98.57142857, 126.4, 82.8, 58.6, 78.8, 83.6, 75.8, 135.6,\n",
              "       104.8571429, 129.2, 148.8, 164.8, 144.8, 70.75, 165.2, 124.8,\n",
              "       115.6, 125.6, 200.5, 151.0, 72.4, 56.0, 79.2, 67.2, 139.6, 125.2,\n",
              "       162.8, 168.5, 163.5, 157.0, 59.8, 140.4, 155.2, 131.2, 123.2,\n",
              "       131.6, 141.2, 101.75, 160.0, 163.2, 152.4, 155.6, 101.25, 64.2,\n",
              "       62.6, 82.4, 58.5, 48.33333333, 47.5, 146.0, 114.4, 151.6,\n",
              "       107.1428571, 132.8, 136.4, 188.5, 183.5, 56.5, 158.8, 60.33333333,\n",
              "       46.83333333, 58.16666667, 49.85714286, 46.57142857, 47.14285714,\n",
              "       50.57142857, 43.71428571, 50.42857143, 48.66666667, 60.2, 77.2,\n",
              "       62.8, 74.6, 77.8, 76.2, 44.28571429, 53.28571429, 57.42857143,\n",
              "       83.2, 68.8, 61.5, 152.8, 81.6, 57.2, 120.4, 55.66666667,\n",
              "       47.66666667, 59.16666667, 60.66666667, 48.16666667, 53.16666667,\n",
              "       59.83333333, 55.0, 69.5, 52.16666667, 61.66666667, 47.83333333,\n",
              "       153.2, 67.6, 98.25, 54.0, 51.83333333, 66.2, 134.4, 175.0, 166.0,\n",
              "       150.8571429, 58.66666667, 156.4, 182.5, 170.2857143, 45.14285714,\n",
              "       46.28571429, 46.0, 43.28571429, 51.0, 50.16666667, 56.33333333,\n",
              "       76.4, 80.6, 57.6, 81.4, 77.6, 57.4, 53.0, 50.66666667, 157.7142857,\n",
              "       162.8571429, 51.66666667, 68.16666667, 59.5, 51.16666667,\n",
              "       49.66666667, 51.33333333, 48.5, 50.5, 53.5, 116.8, 158.1428571,\n",
              "       129.4285714, 52.33333333, 61.33333333, 199.5, 145.0, 65.66666667,\n",
              "       51.28571429, 52.57142857, 55.5, 96.25, 48.85714286, 186.2857143,\n",
              "       63.16666667, 57.5, 218.125, 200.625, 50.83333333, 45.57142857,\n",
              "       51.5, 65.16666667, 190.8571429, 116.4, 126.8, 56.16666667, 163.0,\n",
              "       63.83333333, 79.4, 117.6, 150.4285714, 46.42857143, 59.33333333,\n",
              "       63.33333333, 100.75, 127.6, 186.8571429, 200.0, 213.1428571, 192.0,\n",
              "       209.7142857, 177.1428571, 208.5714286, 205.1428571, 138.2222222,\n",
              "       123.6, 51.14285714, 165.0, 49.5, 68.66666667, 54.83333333,\n",
              "       55.33333333, 55.16666667, 153.6, 92.85714286, 44.85714286,\n",
              "       58.83333333, 121.6, 76.8, 61.16666667, 56.66666667, 62.83333333,\n",
              "       136.7142857, 133.2857143, 149.1428571, 190.0, 53.57142857, 70.5,\n",
              "       105.25, 83.8, 196.5714286, 68.5, 47.33333333, 87.14285714, 158.4,\n",
              "       135.2, 118.4, 142.5, 151.5, 50.85714286, 48.0, 49.0, 156.8571429,\n",
              "       154.7142857, 52.42857143, 113.625, 158.5714286, 125.1428571,\n",
              "       124.2857143, 65.5, 150.8, 166.8, 128.4, 56.28571429, 159.6, 124.4,\n",
              "       154.4, 159.2, 52.0, 51.57142857, 54.14285714, 44.42857143, 44.0,\n",
              "       43.42857143, 47.42857143, 56.71428571, 46.14285714, 64.66666667,\n",
              "       58.71428571, 108.2857143, 50.33333333, 56.8, 133.2, 64.83333333,\n",
              "       175.5, 236.5714286, 113.6, 118.8, 204.0, 182.2857143, 200.5714286,\n",
              "       80.2, 149.5, 147.8571429, 174.4285714, 165.6, 62.16666667,\n",
              "       106.2857143, 68.83333333, 49.83333333, 132.4285714, 135.8571429,\n",
              "       143.5714286, 144.4285714, 45.71428571, 52.66666667, 48.83333333,\n",
              "       41.85714286, 90.28571429, 183.0, 63.5, 205.7142857, 160.7142857,\n",
              "       141.0, 156.4285714, 154.2857143, 160.2857143, 56.4, 80.4,\n",
              "       54.85714286, 69.33333333, 45.28571429, 77.4, 157.5, 138.375,\n",
              "       72.24454148, 43.0, 57.0, 81.2, 60.5, 152.5, 157.2, 93.42857143,\n",
              "       53.14285714, 46.71428571, 65.83333333, 52.85714286, 208.75,\n",
              "       217.1428571, 210.8571429, 198.125, 47.28571429, 52.71428571,\n",
              "       53.42857143, 105.4285714, 95.42857143, 160.8, 158.5, 70.25,\n",
              "       69.66666667, 206.2857143, 69.16666667, 204.5714286, 84.2, 167.2,\n",
              "       162.4, 56.6, 47.85714286, 56.57142857, 43.14285714, 232.5714286,\n",
              "       198.2857143, 105.7142857, '0', '187', '233.75', '155.8333333',\n",
              "       'Fwd Pkt Len Mean', '105.0434783', '13.5625', '10.625',\n",
              "       '12.42372881', '8.497584541', '300', '155.5', '84.31205674',\n",
              "       '88.5', '106.3', '424', '118.1111111', '82.6', '111.25', '96.5',\n",
              "       '121.3636364', '145.75', '28', '8.666666667', '90.06666667',\n",
              "       '697.6', '42.66666667'], dtype=object)"
            ]
          },
          "metadata": {},
          "execution_count": 23
        }
      ]
    },
    {
      "cell_type": "code",
      "source": [
        "d3['Fwd Pkt Len Mean'] = pd.to_numeric(d3['Fwd Pkt Len Mean'], errors='coerce').convert_dtypes()\n",
        "d3['Fwd Pkt Len Mean'].unique()"
      ],
      "metadata": {
        "id": "bdA_gXRVUK0d",
        "outputId": "dec6bd82-a2d6-4f54-a232-4f17ec6d2892",
        "colab": {
          "base_uri": "https://localhost:8080/"
        }
      },
      "execution_count": 24,
      "outputs": [
        {
          "output_type": "execute_result",
          "data": {
            "text/plain": [
              "<FloatingArray>\n",
              "[        0.0, 105.0434783,     13.5625,      10.625, 12.42372881, 8.497584541,\n",
              "       300.0,       155.5, 84.31205674,        88.5,\n",
              " ...\n",
              "       167.2,       162.4,        56.6, 47.85714286, 56.57142857, 43.14285714,\n",
              " 232.5714286, 198.2857143, 105.7142857,        <NA>]\n",
              "Length: 910, dtype: Float64"
            ]
          },
          "metadata": {},
          "execution_count": 24
        }
      ]
    },
    {
      "cell_type": "code",
      "source": [
        "for i, name in enumerate(d3.columns):\n",
        "  if name=='Label':\n",
        "    pass\n",
        "  if d3[name].dtype==object:\n",
        "    d3[name] = pd.to_numeric(d3[name], errors='coerce').convert_dtypes()\n"
      ],
      "metadata": {
        "id": "CLEb_ewYUeB8"
      },
      "execution_count": 26,
      "outputs": []
    },
    {
      "cell_type": "code",
      "source": [
        "pd.set_option('display.max_rows', 500)\n",
        "for i, name in enumerate(d3.columns):\n",
        "    # print(f'\"{name}\":{{\"dtype\":{df[name].dtype}, \"min\":{df[name].min()}, \"max\":{df[name].max()}}} {\",\" if i>(len(df.columns)-1) else \"\"}')\n",
        "    print(f'\"{name}\":{{\"dtype\":{d3[name].dtype}, \"min\":{len(d3[name].unique())}}} {\",\" if i>(len(d3.columns)-1) else \"\"}')\n",
        "print(\"}\") "
      ],
      "metadata": {
        "id": "JIzmVRn5VfJi",
        "outputId": "fb72f025-1cef-4f77-ec26-b80809c4138f",
        "colab": {
          "base_uri": "https://localhost:8080/"
        }
      },
      "execution_count": 27,
      "outputs": [
        {
          "output_type": "stream",
          "name": "stdout",
          "text": [
            "\"Dst Port\":{\"dtype\":Int64, \"min\":14137} \n",
            "\"Protocol\":{\"dtype\":Int64, \"min\":4} \n",
            "\"Flow Duration\":{\"dtype\":Int64, \"min\":453353} \n",
            "\"Tot Fwd Pkts\":{\"dtype\":Int64, \"min\":25} \n",
            "\"Tot Bwd Pkts\":{\"dtype\":Int64, \"min\":22} \n",
            "\"TotLen Fwd Pkts\":{\"dtype\":Int64, \"min\":461} \n",
            "\"TotLen Bwd Pkts\":{\"dtype\":Int64, \"min\":697} \n",
            "\"Fwd Pkt Len Max\":{\"dtype\":Int64, \"min\":165} \n",
            "\"Fwd Pkt Len Min\":{\"dtype\":Int64, \"min\":4} \n",
            "\"Fwd Pkt Len Mean\":{\"dtype\":Float64, \"min\":910} \n",
            "\"Fwd Pkt Len Std\":{\"dtype\":Float64, \"min\":949} \n",
            "\"Bwd Pkt Len Max\":{\"dtype\":Int64, \"min\":158} \n",
            "\"Bwd Pkt Len Min\":{\"dtype\":Int64, \"min\":4} \n",
            "\"Bwd Pkt Len Mean\":{\"dtype\":Float64, \"min\":1444} \n",
            "\"Bwd Pkt Len Std\":{\"dtype\":Float64, \"min\":1222} \n",
            "\"Flow Byts/s\":{\"dtype\":Float64, \"min\":466688} \n",
            "\"Flow Pkts/s\":{\"dtype\":Float64, \"min\":489767} \n",
            "\"Flow IAT Mean\":{\"dtype\":Float64, \"min\":481581} \n",
            "\"Flow IAT Std\":{\"dtype\":Float64, \"min\":495186} \n",
            "\"Flow IAT Max\":{\"dtype\":Int64, \"min\":407844} \n",
            "\"Flow IAT Min\":{\"dtype\":Int64, \"min\":58970} \n",
            "\"Fwd IAT Tot\":{\"dtype\":Int64, \"min\":444141} \n",
            "\"Fwd IAT Mean\":{\"dtype\":Float64, \"min\":453576} \n",
            "\"Fwd IAT Std\":{\"dtype\":Float64, \"min\":483854} \n",
            "\"Fwd IAT Max\":{\"dtype\":Int64, \"min\":413424} \n",
            "\"Fwd IAT Min\":{\"dtype\":Int64, \"min\":60166} \n",
            "\"Bwd IAT Tot\":{\"dtype\":Int64, \"min\":201722} \n",
            "\"Bwd IAT Mean\":{\"dtype\":Float64, \"min\":216407} \n",
            "\"Bwd IAT Std\":{\"dtype\":Float64, \"min\":237286} \n",
            "\"Bwd IAT Max\":{\"dtype\":Int64, \"min\":185326} \n",
            "\"Bwd IAT Min\":{\"dtype\":Int64, \"min\":39098} \n",
            "\"Fwd PSH Flags\":{\"dtype\":Int64, \"min\":3} \n",
            "\"Bwd PSH Flags\":{\"dtype\":Int64, \"min\":2} \n",
            "\"Fwd URG Flags\":{\"dtype\":Int64, \"min\":2} \n",
            "\"Bwd URG Flags\":{\"dtype\":Int64, \"min\":2} \n",
            "\"Fwd Header Len\":{\"dtype\":Int64, \"min\":55} \n",
            "\"Bwd Header Len\":{\"dtype\":Int64, \"min\":55} \n",
            "\"Fwd Pkts/s\":{\"dtype\":Float64, \"min\":470701} \n",
            "\"Bwd Pkts/s\":{\"dtype\":Float64, \"min\":406252} \n",
            "\"Pkt Len Min\":{\"dtype\":Int64, \"min\":3} \n",
            "\"Pkt Len Max\":{\"dtype\":Int64, \"min\":20} \n",
            "\"Pkt Len Mean\":{\"dtype\":Float64, \"min\":2005} \n",
            "\"Pkt Len Std\":{\"dtype\":Float64, \"min\":2095} \n",
            "\"Pkt Len Var\":{\"dtype\":Float64, \"min\":2095} \n",
            "\"FIN Flag Cnt\":{\"dtype\":Int64, \"min\":3} \n",
            "\"SYN Flag Cnt\":{\"dtype\":Int64, \"min\":3} \n",
            "\"RST Flag Cnt\":{\"dtype\":Int64, \"min\":3} \n",
            "\"PSH Flag Cnt\":{\"dtype\":Int64, \"min\":3} \n",
            "\"ACK Flag Cnt\":{\"dtype\":Int64, \"min\":3} \n",
            "\"URG Flag Cnt\":{\"dtype\":Int64, \"min\":3} \n",
            "\"CWE Flag Count\":{\"dtype\":Int64, \"min\":2} \n",
            "\"ECE Flag Cnt\":{\"dtype\":Int64, \"min\":3} \n",
            "\"Down/Up Ratio\":{\"dtype\":Int64, \"min\":6} \n",
            "\"Pkt Size Avg\":{\"dtype\":Float64, \"min\":1999} \n",
            "\"Fwd Seg Size Avg\":{\"dtype\":Float64, \"min\":910} \n",
            "\"Bwd Seg Size Avg\":{\"dtype\":Float64, \"min\":1444} \n",
            "\"Fwd Byts/b Avg\":{\"dtype\":Int64, \"min\":2} \n",
            "\"Fwd Pkts/b Avg\":{\"dtype\":Int64, \"min\":2} \n",
            "\"Fwd Blk Rate Avg\":{\"dtype\":Int64, \"min\":2} \n",
            "\"Bwd Byts/b Avg\":{\"dtype\":Int64, \"min\":2} \n",
            "\"Bwd Pkts/b Avg\":{\"dtype\":Int64, \"min\":2} \n",
            "\"Bwd Blk Rate Avg\":{\"dtype\":Int64, \"min\":2} \n",
            "\"Subflow Fwd Pkts\":{\"dtype\":Int64, \"min\":25} \n",
            "\"Subflow Fwd Byts\":{\"dtype\":Int64, \"min\":461} \n",
            "\"Subflow Bwd Pkts\":{\"dtype\":Int64, \"min\":22} \n",
            "\"Subflow Bwd Byts\":{\"dtype\":Int64, \"min\":697} \n",
            "\"Init Fwd Win Byts\":{\"dtype\":Int64, \"min\":25} \n",
            "\"Init Bwd Win Byts\":{\"dtype\":Int64, \"min\":23} \n",
            "\"Fwd Act Data Pkts\":{\"dtype\":Int64, \"min\":16} \n",
            "\"Fwd Seg Size Min\":{\"dtype\":Int64, \"min\":6} \n",
            "\"Active Mean\":{\"dtype\":Float64, \"min\":5684} \n",
            "\"Active Std\":{\"dtype\":Float64, \"min\":17} \n",
            "\"Active Max\":{\"dtype\":Int64, \"min\":5685} \n",
            "\"Active Min\":{\"dtype\":Int64, \"min\":5684} \n",
            "\"Idle Mean\":{\"dtype\":Float64, \"min\":45989} \n",
            "\"Idle Std\":{\"dtype\":Float64, \"min\":100} \n",
            "\"Idle Max\":{\"dtype\":Int64, \"min\":45989} \n",
            "\"Idle Min\":{\"dtype\":Int64, \"min\":45989} \n",
            "\"Label\":{\"dtype\":Int64, \"min\":1} \n",
            "}\n"
          ]
        }
      ]
    },
    {
      "cell_type": "code",
      "source": [
        "d3['Label'].unique"
      ],
      "metadata": {
        "id": "r-0x0F3-V91I",
        "outputId": "d692926e-b8e4-4535-fc98-ce7489f77b64",
        "colab": {
          "base_uri": "https://localhost:8080/"
        }
      },
      "execution_count": 28,
      "outputs": [
        {
          "output_type": "execute_result",
          "data": {
            "text/plain": [
              "<bound method Series.unique of 0          <NA>\n",
              "1          <NA>\n",
              "2          <NA>\n",
              "3          <NA>\n",
              "4          <NA>\n",
              "           ... \n",
              "1048570    <NA>\n",
              "1048571    <NA>\n",
              "1048572    <NA>\n",
              "1048573    <NA>\n",
              "1048574    <NA>\n",
              "Name: Label, Length: 1048575, dtype: Int64>"
            ]
          },
          "metadata": {},
          "execution_count": 28
        }
      ]
    }
  ]
}