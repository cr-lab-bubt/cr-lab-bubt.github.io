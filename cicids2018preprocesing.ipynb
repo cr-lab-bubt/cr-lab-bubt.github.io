{
  "nbformat": 4,
  "nbformat_minor": 0,
  "metadata": {
    "colab": {
      "name": "Untitled4.ipynb",
      "provenance": [],
      "authorship_tag": "ABX9TyOMc/AdXSEs1oMmKjNLXq8w",
      "include_colab_link": true
    },
    "kernelspec": {
      "name": "python3",
      "display_name": "Python 3"
    },
    "language_info": {
      "name": "python"
    }
  },
  "cells": [
    {
      "cell_type": "markdown",
      "metadata": {
        "id": "view-in-github",
        "colab_type": "text"
      },
      "source": [
        "<a href=\"https://colab.research.google.com/github/j-hossain/crlab/blob/main/cicids2018preprocesing.ipynb\" target=\"_parent\"><img src=\"https://colab.research.google.com/assets/colab-badge.svg\" alt=\"Open In Colab\"/></a>"
      ]
    },
    {
      "cell_type": "code",
      "execution_count": 1,
      "metadata": {
        "id": "OIoCZLIrDGZ3"
      },
      "outputs": [],
      "source": [
        "import pandas as pd\n",
        "import numpy as np"
      ]
    },
    {
      "cell_type": "code",
      "source": [
        "# first upload the kaggle api key to fetch dataset\n",
        "from google.colab import files\n",
        "apiKey = files.upload()"
      ],
      "metadata": {
        "id": "b_LRP6O5Tz5b",
        "outputId": "dd388520-2033-4d20-bb3c-a737537b4203",
        "colab": {
          "resources": {
            "http://localhost:8080/nbextensions/google.colab/files.js": {
              "data": "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",
              "ok": true,
              "headers": [
                [
                  "content-type",
                  "application/javascript"
                ]
              ],
              "status": 200,
              "status_text": ""
            }
          },
          "base_uri": "https://localhost:8080/",
          "height": 74
        }
      },
      "execution_count": 2,
      "outputs": [
        {
          "output_type": "display_data",
          "data": {
            "text/plain": [
              "<IPython.core.display.HTML object>"
            ],
            "text/html": [
              "\n",
              "     <input type=\"file\" id=\"files-49a889ad-6fc9-45d1-8242-d12320131c9a\" name=\"files[]\" multiple disabled\n",
              "        style=\"border:none\" />\n",
              "     <output id=\"result-49a889ad-6fc9-45d1-8242-d12320131c9a\">\n",
              "      Upload widget is only available when the cell has been executed in the\n",
              "      current browser session. Please rerun this cell to enable.\n",
              "      </output>\n",
              "      <script src=\"/nbextensions/google.colab/files.js\"></script> "
            ]
          },
          "metadata": {}
        },
        {
          "output_type": "stream",
          "name": "stdout",
          "text": [
            "Saving kaggle.json to kaggle.json\n"
          ]
        }
      ]
    },
    {
      "cell_type": "code",
      "source": [
        "import os\n",
        "os.environ['KAGGLE_CONFIG_DIR'] = \"/content\"\n",
        "! chmod 600 /content/kaggle.json\n",
        "! kaggle datasets download solarmainframe/ids-intrusion-csv\n",
        "! mkdir dataset\n",
        "! unzip /content/ids-intrusion-csv.zip -d '/content/dataset'"
      ],
      "metadata": {
        "id": "M4KgoM8_T7co",
        "outputId": "44209c15-723f-4e34-b217-9c0f34a76588",
        "colab": {
          "base_uri": "https://localhost:8080/"
        }
      },
      "execution_count": 3,
      "outputs": [
        {
          "output_type": "stream",
          "name": "stdout",
          "text": [
            "Downloading ids-intrusion-csv.zip to /content\n",
            " 99% 1.59G/1.60G [00:15<00:00, 99.9MB/s]\n",
            "100% 1.60G/1.60G [00:15<00:00, 113MB/s] \n",
            "Archive:  /content/ids-intrusion-csv.zip\n",
            "  inflating: /content/dataset/02-14-2018.csv  \n",
            "  inflating: /content/dataset/02-15-2018.csv  \n",
            "  inflating: /content/dataset/02-16-2018.csv  \n",
            "  inflating: /content/dataset/02-20-2018.csv  \n",
            "  inflating: /content/dataset/02-21-2018.csv  \n",
            "  inflating: /content/dataset/02-22-2018.csv  \n",
            "  inflating: /content/dataset/02-23-2018.csv  \n",
            "  inflating: /content/dataset/02-28-2018.csv  \n",
            "  inflating: /content/dataset/03-01-2018.csv  \n",
            "  inflating: /content/dataset/03-02-2018.csv  \n"
          ]
        }
      ]
    },
    {
      "cell_type": "code",
      "source": [
        "dtp = {}\n",
        "drp = [\"Timestamp\"]"
      ],
      "metadata": {
        "id": "xTme_kqIU9Zt"
      },
      "execution_count": 2,
      "outputs": []
    },
    {
      "cell_type": "code",
      "source": [
        "df=pd.read_csv('/content/dataset/02-14-2018.csv',dtype=dtp,usecols=lambda x: x not in drp)"
      ],
      "metadata": {
        "id": "XIFnUy_TUOn4"
      },
      "execution_count": 3,
      "outputs": []
    },
    {
      "cell_type": "code",
      "source": [
        "for i, name in enumerate(df.columns):\n",
        "  if name=='Label':\n",
        "    pass\n",
        "  elif len(df[name].unique())<10:\n",
        "    dtp[name]=\"category\"\n",
        "  \n",
        "  elif df[name].dtype==\"int64\":\n",
        "    if df[name].min()>=0:\n",
        "      if df[name].max()<=255:\n",
        "        dtp[name]=\"uint8\"\n",
        "      elif df[name].max()<=65535:\n",
        "        dtp[name]=\"uint16\"\n",
        "      elif df[name].max()<=2147483647:\n",
        "        dtp[name]=\"uint32\"\n",
        "    else:\n",
        "      if df[name].min()>=-128 and df[name].max()<=127:\n",
        "        dtp[name]=\"int8\"\n",
        "      elif df[name].min()>=-32768 and df[name].max()<=32767:\n",
        "        dtp[name]=\"int16\"\n",
        "      elif df[name].min()>=-2147483648 and df[name].max()<=2147483647:\n",
        "        dtp[name]=\"int32\"\n",
        "  else:\n",
        "      if df[name].min()>=-2147483648 and df[name].max()<=2147483647:\n",
        "        dtp[name]=\"float32\"\n",
        "  \n",
        "print(dtp)"
      ],
      "metadata": {
        "colab": {
          "base_uri": "https://localhost:8080/"
        },
        "id": "ZhcjftEWHTNe",
        "outputId": "96c3ec64-0ed8-4e15-efe7-98c34c38947c"
      },
      "execution_count": 4,
      "outputs": [
        {
          "output_type": "stream",
          "name": "stdout",
          "text": [
            "{'Dst Port': 'uint16', 'Protocol': 'category', 'Tot Fwd Pkts': 'uint16', 'Tot Bwd Pkts': 'uint16', 'TotLen Fwd Pkts': 'uint32', 'TotLen Bwd Pkts': 'uint32', 'Fwd Pkt Len Max': 'uint16', 'Fwd Pkt Len Min': 'uint16', 'Fwd Pkt Len Mean': 'float32', 'Fwd Pkt Len Std': 'float32', 'Bwd Pkt Len Max': 'uint16', 'Bwd Pkt Len Min': 'uint16', 'Bwd Pkt Len Mean': 'float32', 'Bwd Pkt Len Std': 'float32', 'Bwd IAT Tot': 'uint32', 'Bwd IAT Mean': 'float32', 'Bwd IAT Std': 'float32', 'Bwd IAT Max': 'uint32', 'Bwd IAT Min': 'uint32', 'Fwd PSH Flags': 'category', 'Bwd PSH Flags': 'category', 'Fwd URG Flags': 'category', 'Bwd URG Flags': 'category', 'Fwd Header Len': 'uint32', 'Bwd Header Len': 'uint32', 'Fwd Pkts/s': 'float32', 'Bwd Pkts/s': 'float32', 'Pkt Len Min': 'uint16', 'Pkt Len Max': 'uint16', 'Pkt Len Mean': 'float32', 'Pkt Len Std': 'float32', 'Pkt Len Var': 'float32', 'FIN Flag Cnt': 'category', 'SYN Flag Cnt': 'category', 'RST Flag Cnt': 'category', 'PSH Flag Cnt': 'category', 'ACK Flag Cnt': 'category', 'URG Flag Cnt': 'category', 'CWE Flag Count': 'category', 'ECE Flag Cnt': 'category', 'Down/Up Ratio': 'uint8', 'Pkt Size Avg': 'float32', 'Fwd Seg Size Avg': 'float32', 'Bwd Seg Size Avg': 'float32', 'Fwd Byts/b Avg': 'category', 'Fwd Pkts/b Avg': 'category', 'Fwd Blk Rate Avg': 'category', 'Bwd Byts/b Avg': 'category', 'Bwd Pkts/b Avg': 'category', 'Bwd Blk Rate Avg': 'category', 'Subflow Fwd Pkts': 'uint16', 'Subflow Fwd Byts': 'uint32', 'Subflow Bwd Pkts': 'uint16', 'Subflow Bwd Byts': 'uint32', 'Init Fwd Win Byts': 'int32', 'Init Bwd Win Byts': 'int32', 'Fwd Act Data Pkts': 'uint16', 'Fwd Seg Size Min': 'uint8', 'Active Mean': 'float32', 'Active Std': 'float32', 'Active Max': 'uint32', 'Active Min': 'uint32'}\n"
          ]
        }
      ]
    },
    {
      "cell_type": "code",
      "source": [
        "df=pd.read_csv('/content/dataset/02-14-2018.csv',dtype=dtp,usecols=lambda x: x not in drp)"
      ],
      "metadata": {
        "id": "JGSbiBgPJ4WM"
      },
      "execution_count": 5,
      "outputs": []
    },
    {
      "cell_type": "code",
      "source": [
        "pd.set_option('display.max_rows', 500)\n",
        "for i, name in enumerate(df.columns):\n",
        "    # print(f'\"{name}\":{{\"dtype\":{df[name].dtype}, \"min\":{df[name].min()}, \"max\":{df[name].max()}}} {\",\" if i>(len(df.columns)-1) else \"\"}')\n",
        "    print(f'\"{name}\":{{\"dtype\":{df[name].dtype}, \"min\":{len(df[name].unique())}}} {\",\" if i>(len(df.columns)-1) else \"\"}')\n",
        "print(\"}\") "
      ],
      "metadata": {
        "id": "QxZhLAW4WbFC",
        "outputId": "eb0f1c35-83d6-44ba-e382-8d8821047771",
        "colab": {
          "base_uri": "https://localhost:8080/"
        }
      },
      "execution_count": 6,
      "outputs": [
        {
          "output_type": "stream",
          "name": "stdout",
          "text": [
            "\"Dst Port\":{\"dtype\":uint16, \"min\":18567} \n",
            "\"Protocol\":{\"dtype\":category, \"min\":3} \n",
            "\"Flow Duration\":{\"dtype\":int64, \"min\":389493} \n",
            "\"Tot Fwd Pkts\":{\"dtype\":uint16, \"min\":751} \n",
            "\"Tot Bwd Pkts\":{\"dtype\":uint16, \"min\":988} \n",
            "\"TotLen Fwd Pkts\":{\"dtype\":uint32, \"min\":5842} \n",
            "\"TotLen Bwd Pkts\":{\"dtype\":uint32, \"min\":15656} \n",
            "\"Fwd Pkt Len Max\":{\"dtype\":uint16, \"min\":1390} \n",
            "\"Fwd Pkt Len Min\":{\"dtype\":uint16, \"min\":112} \n",
            "\"Fwd Pkt Len Mean\":{\"dtype\":float32, \"min\":17879} \n",
            "\"Fwd Pkt Len Std\":{\"dtype\":float32, \"min\":27491} \n",
            "\"Bwd Pkt Len Max\":{\"dtype\":uint16, \"min\":958} \n",
            "\"Bwd Pkt Len Min\":{\"dtype\":uint16, \"min\":270} \n",
            "\"Bwd Pkt Len Mean\":{\"dtype\":float32, \"min\":24517} \n",
            "\"Bwd Pkt Len Std\":{\"dtype\":float32, \"min\":28813} \n",
            "\"Flow Byts/s\":{\"dtype\":float64, \"min\":454333} \n",
            "\"Flow Pkts/s\":{\"dtype\":float64, \"min\":417167} \n",
            "\"Flow IAT Mean\":{\"dtype\":float64, \"min\":418622} \n",
            "\"Flow IAT Std\":{\"dtype\":float64, \"min\":416669} \n",
            "\"Flow IAT Max\":{\"dtype\":int64, \"min\":295378} \n",
            "\"Flow IAT Min\":{\"dtype\":int64, \"min\":66507} \n",
            "\"Fwd IAT Tot\":{\"dtype\":int64, \"min\":352376} \n",
            "\"Fwd IAT Mean\":{\"dtype\":float64, \"min\":373758} \n",
            "\"Fwd IAT Std\":{\"dtype\":float64, \"min\":341531} \n",
            "\"Fwd IAT Max\":{\"dtype\":int64, \"min\":303763} \n",
            "\"Fwd IAT Min\":{\"dtype\":int64, \"min\":89620} \n",
            "\"Bwd IAT Tot\":{\"dtype\":uint32, \"min\":293735} \n",
            "\"Bwd IAT Mean\":{\"dtype\":float32, \"min\":307385} \n",
            "\"Bwd IAT Std\":{\"dtype\":float32, \"min\":328081} \n",
            "\"Bwd IAT Max\":{\"dtype\":uint32, \"min\":222886} \n",
            "\"Bwd IAT Min\":{\"dtype\":uint32, \"min\":108796} \n",
            "\"Fwd PSH Flags\":{\"dtype\":category, \"min\":2} \n",
            "\"Bwd PSH Flags\":{\"dtype\":category, \"min\":1} \n",
            "\"Fwd URG Flags\":{\"dtype\":category, \"min\":1} \n",
            "\"Bwd URG Flags\":{\"dtype\":category, \"min\":1} \n",
            "\"Fwd Header Len\":{\"dtype\":uint32, \"min\":1237} \n",
            "\"Bwd Header Len\":{\"dtype\":uint32, \"min\":1843} \n",
            "\"Fwd Pkts/s\":{\"dtype\":float32, \"min\":406269} \n",
            "\"Bwd Pkts/s\":{\"dtype\":float32, \"min\":359447} \n",
            "\"Pkt Len Min\":{\"dtype\":uint16, \"min\":80} \n",
            "\"Pkt Len Max\":{\"dtype\":uint16, \"min\":1139} \n",
            "\"Pkt Len Mean\":{\"dtype\":float32, \"min\":36030} \n",
            "\"Pkt Len Std\":{\"dtype\":float32, \"min\":42490} \n",
            "\"Pkt Len Var\":{\"dtype\":float32, \"min\":42525} \n",
            "\"FIN Flag Cnt\":{\"dtype\":category, \"min\":2} \n",
            "\"SYN Flag Cnt\":{\"dtype\":category, \"min\":2} \n",
            "\"RST Flag Cnt\":{\"dtype\":category, \"min\":2} \n",
            "\"PSH Flag Cnt\":{\"dtype\":category, \"min\":2} \n",
            "\"ACK Flag Cnt\":{\"dtype\":category, \"min\":2} \n",
            "\"URG Flag Cnt\":{\"dtype\":category, \"min\":2} \n",
            "\"CWE Flag Count\":{\"dtype\":category, \"min\":1} \n",
            "\"ECE Flag Cnt\":{\"dtype\":category, \"min\":2} \n",
            "\"Down/Up Ratio\":{\"dtype\":uint8, \"min\":33} \n",
            "\"Pkt Size Avg\":{\"dtype\":float32, \"min\":35682} \n",
            "\"Fwd Seg Size Avg\":{\"dtype\":float32, \"min\":17879} \n",
            "\"Bwd Seg Size Avg\":{\"dtype\":float32, \"min\":24517} \n",
            "\"Fwd Byts/b Avg\":{\"dtype\":category, \"min\":1} \n",
            "\"Fwd Pkts/b Avg\":{\"dtype\":category, \"min\":1} \n",
            "\"Fwd Blk Rate Avg\":{\"dtype\":category, \"min\":1} \n",
            "\"Bwd Byts/b Avg\":{\"dtype\":category, \"min\":1} \n",
            "\"Bwd Pkts/b Avg\":{\"dtype\":category, \"min\":1} \n",
            "\"Bwd Blk Rate Avg\":{\"dtype\":category, \"min\":1} \n",
            "\"Subflow Fwd Pkts\":{\"dtype\":uint16, \"min\":751} \n",
            "\"Subflow Fwd Byts\":{\"dtype\":uint32, \"min\":5842} \n",
            "\"Subflow Bwd Pkts\":{\"dtype\":uint16, \"min\":988} \n",
            "\"Subflow Bwd Byts\":{\"dtype\":uint32, \"min\":15656} \n",
            "\"Init Fwd Win Byts\":{\"dtype\":int32, \"min\":3308} \n",
            "\"Init Bwd Win Byts\":{\"dtype\":int32, \"min\":3547} \n",
            "\"Fwd Act Data Pkts\":{\"dtype\":uint16, \"min\":112} \n",
            "\"Fwd Seg Size Min\":{\"dtype\":uint8, \"min\":10} \n",
            "\"Active Mean\":{\"dtype\":float32, \"min\":73589} \n",
            "\"Active Std\":{\"dtype\":float32, \"min\":55361} \n",
            "\"Active Max\":{\"dtype\":uint32, \"min\":71437} \n",
            "\"Active Min\":{\"dtype\":uint32, \"min\":38864} \n",
            "\"Idle Mean\":{\"dtype\":float64, \"min\":80419} \n",
            "\"Idle Std\":{\"dtype\":float64, \"min\":57847} \n",
            "\"Idle Max\":{\"dtype\":int64, \"min\":59134} \n",
            "\"Idle Min\":{\"dtype\":int64, \"min\":69046} \n",
            "\"Label\":{\"dtype\":object, \"min\":3} \n",
            "}\n"
          ]
        }
      ]
    },
    {
      "cell_type": "code",
      "source": [
        "df['Label'].unique()"
      ],
      "metadata": {
        "id": "bfuiJknEciX2",
        "outputId": "a995cc3d-6f4f-41c1-d0d4-f26b7c5946d3",
        "colab": {
          "base_uri": "https://localhost:8080/"
        }
      },
      "execution_count": 8,
      "outputs": [
        {
          "output_type": "execute_result",
          "data": {
            "text/plain": [
              "array(['Benign', 'FTP-BruteForce', 'SSH-Bruteforce'], dtype=object)"
            ]
          },
          "metadata": {},
          "execution_count": 8
        }
      ]
    },
    {
      "cell_type": "code",
      "source": [
        "d2 = pd.read_csv('/content/dataset/02-15-2018.csv',dtype=dtp,usecols=lambda x: x not in drp)"
      ],
      "metadata": {
        "id": "mmUsROlEPOS3"
      },
      "execution_count": 10,
      "outputs": []
    },
    {
      "cell_type": "code",
      "source": [
        "d3 = pd.read_csv('/content/dataset/02-16-2018.csv',usecols=lambda x: x not in drp)"
      ],
      "metadata": {
        "colab": {
          "base_uri": "https://localhost:8080/"
        },
        "id": "YKHvfrnFPm4Z",
        "outputId": "04190c95-aed8-4c24-c507-00fcfe94a09b"
      },
      "execution_count": 29,
      "outputs": [
        {
          "output_type": "stream",
          "name": "stderr",
          "text": [
            "/usr/local/lib/python3.7/dist-packages/IPython/core/interactiveshell.py:2882: DtypeWarning: Columns (0,1,3,4,5,6,7,8,9,10,11,12,13,14,15,16,17,18,19,20,21,22,23,24,25,26,27,28,29,30,31,32,33,34,35,36,37,38,39,40,41,42,43,44,45,46,47,48,49,50,51,52,53,54,55,56,57,58,59,60,61,62,63,64,65,66,67,68,69,70,71,72,73,74,75,76,77,78) have mixed types.Specify dtype option on import or set low_memory=False.\n",
            "  exec(code_obj, self.user_global_ns, self.user_ns)\n"
          ]
        }
      ]
    },
    {
      "cell_type": "code",
      "source": [
        "pd.set_option('display.max_rows', 500)\n",
        "for i, name in enumerate(d3.columns):\n",
        "    # print(f'\"{name}\":{{\"dtype\":{df[name].dtype}, \"min\":{df[name].min()}, \"max\":{df[name].max()}}} {\",\" if i>(len(df.columns)-1) else \"\"}')\n",
        "    print(f'\"{name}\":{{\"dtype\":{d3[name].dtype}, \"min\":{len(d3[name].unique())}}} {\",\" if i>(len(d3.columns)-1) else \"\"}')\n",
        "print(\"}\") "
      ],
      "metadata": {
        "colab": {
          "base_uri": "https://localhost:8080/"
        },
        "id": "EV_pw6bRQA-4",
        "outputId": "6c3859e6-99c1-4c19-8860-5e02e12f72fa"
      },
      "execution_count": 14,
      "outputs": [
        {
          "output_type": "stream",
          "name": "stdout",
          "text": [
            "\"Dst Port\":{\"dtype\":object, \"min\":14464} \n",
            "\"Protocol\":{\"dtype\":object, \"min\":7} \n",
            "\"Flow Duration\":{\"dtype\":object, \"min\":453876} \n",
            "\"Tot Fwd Pkts\":{\"dtype\":object, \"min\":43} \n",
            "\"Tot Bwd Pkts\":{\"dtype\":object, \"min\":37} \n",
            "\"TotLen Fwd Pkts\":{\"dtype\":object, \"min\":481} \n",
            "\"TotLen Bwd Pkts\":{\"dtype\":object, \"min\":862} \n",
            "\"Fwd Pkt Len Max\":{\"dtype\":object, \"min\":182} \n",
            "\"Fwd Pkt Len Min\":{\"dtype\":object, \"min\":7} \n",
            "\"Fwd Pkt Len Mean\":{\"dtype\":object, \"min\":936} \n",
            "\"Fwd Pkt Len Std\":{\"dtype\":object, \"min\":974} \n",
            "\"Bwd Pkt Len Max\":{\"dtype\":object, \"min\":269} \n",
            "\"Bwd Pkt Len Min\":{\"dtype\":object, \"min\":6} \n",
            "\"Bwd Pkt Len Mean\":{\"dtype\":object, \"min\":1629} \n",
            "\"Bwd Pkt Len Std\":{\"dtype\":object, \"min\":1355} \n",
            "\"Flow Byts/s\":{\"dtype\":object, \"min\":466738} \n",
            "\"Flow Pkts/s\":{\"dtype\":object, \"min\":490239} \n",
            "\"Flow IAT Mean\":{\"dtype\":object, \"min\":482016} \n",
            "\"Flow IAT Std\":{\"dtype\":object, \"min\":495263} \n",
            "\"Flow IAT Max\":{\"dtype\":object, \"min\":408374} \n",
            "\"Flow IAT Min\":{\"dtype\":object, \"min\":59293} \n",
            "\"Fwd IAT Tot\":{\"dtype\":object, \"min\":444573} \n",
            "\"Fwd IAT Mean\":{\"dtype\":object, \"min\":453999} \n",
            "\"Fwd IAT Std\":{\"dtype\":object, \"min\":483928} \n",
            "\"Fwd IAT Max\":{\"dtype\":object, \"min\":413892} \n",
            "\"Fwd IAT Min\":{\"dtype\":object, \"min\":60511} \n",
            "\"Bwd IAT Tot\":{\"dtype\":object, \"min\":201982} \n",
            "\"Bwd IAT Mean\":{\"dtype\":object, \"min\":216668} \n",
            "\"Bwd IAT Std\":{\"dtype\":object, \"min\":237517} \n",
            "\"Bwd IAT Max\":{\"dtype\":object, \"min\":185603} \n",
            "\"Bwd IAT Min\":{\"dtype\":object, \"min\":39421} \n",
            "\"Fwd PSH Flags\":{\"dtype\":object, \"min\":5} \n",
            "\"Bwd PSH Flags\":{\"dtype\":object, \"min\":3} \n",
            "\"Fwd URG Flags\":{\"dtype\":object, \"min\":3} \n",
            "\"Bwd URG Flags\":{\"dtype\":object, \"min\":3} \n",
            "\"Fwd Header Len\":{\"dtype\":object, \"min\":80} \n",
            "\"Bwd Header Len\":{\"dtype\":object, \"min\":76} \n",
            "\"Fwd Pkts/s\":{\"dtype\":object, \"min\":471211} \n",
            "\"Bwd Pkts/s\":{\"dtype\":object, \"min\":406414} \n",
            "\"Pkt Len Min\":{\"dtype\":object, \"min\":5} \n",
            "\"Pkt Len Max\":{\"dtype\":object, \"min\":35} \n",
            "\"Pkt Len Mean\":{\"dtype\":object, \"min\":2199} \n",
            "\"Pkt Len Std\":{\"dtype\":object, \"min\":2289} \n",
            "\"Pkt Len Var\":{\"dtype\":object, \"min\":2289} \n",
            "\"FIN Flag Cnt\":{\"dtype\":object, \"min\":4} \n",
            "\"SYN Flag Cnt\":{\"dtype\":object, \"min\":5} \n",
            "\"RST Flag Cnt\":{\"dtype\":object, \"min\":5} \n",
            "\"PSH Flag Cnt\":{\"dtype\":object, \"min\":5} \n",
            "\"ACK Flag Cnt\":{\"dtype\":object, \"min\":5} \n",
            "\"URG Flag Cnt\":{\"dtype\":object, \"min\":5} \n",
            "\"CWE Flag Count\":{\"dtype\":object, \"min\":3} \n",
            "\"ECE Flag Cnt\":{\"dtype\":object, \"min\":5} \n",
            "\"Down/Up Ratio\":{\"dtype\":object, \"min\":10} \n",
            "\"Pkt Size Avg\":{\"dtype\":object, \"min\":2192} \n",
            "\"Fwd Seg Size Avg\":{\"dtype\":object, \"min\":936} \n",
            "\"Bwd Seg Size Avg\":{\"dtype\":object, \"min\":1629} \n",
            "\"Fwd Byts/b Avg\":{\"dtype\":object, \"min\":3} \n",
            "\"Fwd Pkts/b Avg\":{\"dtype\":object, \"min\":3} \n",
            "\"Fwd Blk Rate Avg\":{\"dtype\":object, \"min\":3} \n",
            "\"Bwd Byts/b Avg\":{\"dtype\":object, \"min\":3} \n",
            "\"Bwd Pkts/b Avg\":{\"dtype\":object, \"min\":3} \n",
            "\"Bwd Blk Rate Avg\":{\"dtype\":object, \"min\":3} \n",
            "\"Subflow Fwd Pkts\":{\"dtype\":object, \"min\":43} \n",
            "\"Subflow Fwd Byts\":{\"dtype\":object, \"min\":481} \n",
            "\"Subflow Bwd Pkts\":{\"dtype\":object, \"min\":37} \n",
            "\"Subflow Bwd Byts\":{\"dtype\":object, \"min\":862} \n",
            "\"Init Fwd Win Byts\":{\"dtype\":object, \"min\":42} \n",
            "\"Init Bwd Win Byts\":{\"dtype\":object, \"min\":37} \n",
            "\"Fwd Act Data Pkts\":{\"dtype\":object, \"min\":25} \n",
            "\"Fwd Seg Size Min\":{\"dtype\":object, \"min\":11} \n",
            "\"Active Mean\":{\"dtype\":object, \"min\":5696} \n",
            "\"Active Std\":{\"dtype\":object, \"min\":19} \n",
            "\"Active Max\":{\"dtype\":object, \"min\":5697} \n",
            "\"Active Min\":{\"dtype\":object, \"min\":5696} \n",
            "\"Idle Mean\":{\"dtype\":object, \"min\":46002} \n",
            "\"Idle Std\":{\"dtype\":object, \"min\":138} \n",
            "\"Idle Max\":{\"dtype\":object, \"min\":46002} \n",
            "\"Idle Min\":{\"dtype\":object, \"min\":46002} \n",
            "\"Label\":{\"dtype\":object, \"min\":4} \n",
            "}\n"
          ]
        }
      ]
    },
    {
      "cell_type": "code",
      "source": [
        "for i, name in enumerate(d3.columns):\n",
        "  if name=='Label':\n",
        "    pass\n",
        "  elif d3[name].dtype==object:\n",
        "    d3[name] = pd.to_numeric(d3[name], errors='coerce').convert_dtypes()\n"
      ],
      "metadata": {
        "id": "CLEb_ewYUeB8"
      },
      "execution_count": 26,
      "outputs": []
    },
    {
      "cell_type": "code",
      "source": [
        "pd.set_option('display.max_rows', 500)\n",
        "for i, name in enumerate(d3.columns):\n",
        "    # print(f'\"{name}\":{{\"dtype\":{df[name].dtype}, \"min\":{df[name].min()}, \"max\":{df[name].max()}}} {\",\" if i>(len(df.columns)-1) else \"\"}')\n",
        "    print(f'\"{name}\":{{\"dtype\":{d3[name].dtype}, \"min\":{len(d3[name].unique())}}} {\",\" if i>(len(d3.columns)-1) else \"\"}')\n",
        "print(\"}\") "
      ],
      "metadata": {
        "colab": {
          "base_uri": "https://localhost:8080/"
        },
        "id": "JIzmVRn5VfJi",
        "outputId": "fb72f025-1cef-4f77-ec26-b80809c4138f"
      },
      "execution_count": 27,
      "outputs": [
        {
          "output_type": "stream",
          "name": "stdout",
          "text": [
            "\"Dst Port\":{\"dtype\":Int64, \"min\":14137} \n",
            "\"Protocol\":{\"dtype\":Int64, \"min\":4} \n",
            "\"Flow Duration\":{\"dtype\":Int64, \"min\":453353} \n",
            "\"Tot Fwd Pkts\":{\"dtype\":Int64, \"min\":25} \n",
            "\"Tot Bwd Pkts\":{\"dtype\":Int64, \"min\":22} \n",
            "\"TotLen Fwd Pkts\":{\"dtype\":Int64, \"min\":461} \n",
            "\"TotLen Bwd Pkts\":{\"dtype\":Int64, \"min\":697} \n",
            "\"Fwd Pkt Len Max\":{\"dtype\":Int64, \"min\":165} \n",
            "\"Fwd Pkt Len Min\":{\"dtype\":Int64, \"min\":4} \n",
            "\"Fwd Pkt Len Mean\":{\"dtype\":Float64, \"min\":910} \n",
            "\"Fwd Pkt Len Std\":{\"dtype\":Float64, \"min\":949} \n",
            "\"Bwd Pkt Len Max\":{\"dtype\":Int64, \"min\":158} \n",
            "\"Bwd Pkt Len Min\":{\"dtype\":Int64, \"min\":4} \n",
            "\"Bwd Pkt Len Mean\":{\"dtype\":Float64, \"min\":1444} \n",
            "\"Bwd Pkt Len Std\":{\"dtype\":Float64, \"min\":1222} \n",
            "\"Flow Byts/s\":{\"dtype\":Float64, \"min\":466688} \n",
            "\"Flow Pkts/s\":{\"dtype\":Float64, \"min\":489767} \n",
            "\"Flow IAT Mean\":{\"dtype\":Float64, \"min\":481581} \n",
            "\"Flow IAT Std\":{\"dtype\":Float64, \"min\":495186} \n",
            "\"Flow IAT Max\":{\"dtype\":Int64, \"min\":407844} \n",
            "\"Flow IAT Min\":{\"dtype\":Int64, \"min\":58970} \n",
            "\"Fwd IAT Tot\":{\"dtype\":Int64, \"min\":444141} \n",
            "\"Fwd IAT Mean\":{\"dtype\":Float64, \"min\":453576} \n",
            "\"Fwd IAT Std\":{\"dtype\":Float64, \"min\":483854} \n",
            "\"Fwd IAT Max\":{\"dtype\":Int64, \"min\":413424} \n",
            "\"Fwd IAT Min\":{\"dtype\":Int64, \"min\":60166} \n",
            "\"Bwd IAT Tot\":{\"dtype\":Int64, \"min\":201722} \n",
            "\"Bwd IAT Mean\":{\"dtype\":Float64, \"min\":216407} \n",
            "\"Bwd IAT Std\":{\"dtype\":Float64, \"min\":237286} \n",
            "\"Bwd IAT Max\":{\"dtype\":Int64, \"min\":185326} \n",
            "\"Bwd IAT Min\":{\"dtype\":Int64, \"min\":39098} \n",
            "\"Fwd PSH Flags\":{\"dtype\":Int64, \"min\":3} \n",
            "\"Bwd PSH Flags\":{\"dtype\":Int64, \"min\":2} \n",
            "\"Fwd URG Flags\":{\"dtype\":Int64, \"min\":2} \n",
            "\"Bwd URG Flags\":{\"dtype\":Int64, \"min\":2} \n",
            "\"Fwd Header Len\":{\"dtype\":Int64, \"min\":55} \n",
            "\"Bwd Header Len\":{\"dtype\":Int64, \"min\":55} \n",
            "\"Fwd Pkts/s\":{\"dtype\":Float64, \"min\":470701} \n",
            "\"Bwd Pkts/s\":{\"dtype\":Float64, \"min\":406252} \n",
            "\"Pkt Len Min\":{\"dtype\":Int64, \"min\":3} \n",
            "\"Pkt Len Max\":{\"dtype\":Int64, \"min\":20} \n",
            "\"Pkt Len Mean\":{\"dtype\":Float64, \"min\":2005} \n",
            "\"Pkt Len Std\":{\"dtype\":Float64, \"min\":2095} \n",
            "\"Pkt Len Var\":{\"dtype\":Float64, \"min\":2095} \n",
            "\"FIN Flag Cnt\":{\"dtype\":Int64, \"min\":3} \n",
            "\"SYN Flag Cnt\":{\"dtype\":Int64, \"min\":3} \n",
            "\"RST Flag Cnt\":{\"dtype\":Int64, \"min\":3} \n",
            "\"PSH Flag Cnt\":{\"dtype\":Int64, \"min\":3} \n",
            "\"ACK Flag Cnt\":{\"dtype\":Int64, \"min\":3} \n",
            "\"URG Flag Cnt\":{\"dtype\":Int64, \"min\":3} \n",
            "\"CWE Flag Count\":{\"dtype\":Int64, \"min\":2} \n",
            "\"ECE Flag Cnt\":{\"dtype\":Int64, \"min\":3} \n",
            "\"Down/Up Ratio\":{\"dtype\":Int64, \"min\":6} \n",
            "\"Pkt Size Avg\":{\"dtype\":Float64, \"min\":1999} \n",
            "\"Fwd Seg Size Avg\":{\"dtype\":Float64, \"min\":910} \n",
            "\"Bwd Seg Size Avg\":{\"dtype\":Float64, \"min\":1444} \n",
            "\"Fwd Byts/b Avg\":{\"dtype\":Int64, \"min\":2} \n",
            "\"Fwd Pkts/b Avg\":{\"dtype\":Int64, \"min\":2} \n",
            "\"Fwd Blk Rate Avg\":{\"dtype\":Int64, \"min\":2} \n",
            "\"Bwd Byts/b Avg\":{\"dtype\":Int64, \"min\":2} \n",
            "\"Bwd Pkts/b Avg\":{\"dtype\":Int64, \"min\":2} \n",
            "\"Bwd Blk Rate Avg\":{\"dtype\":Int64, \"min\":2} \n",
            "\"Subflow Fwd Pkts\":{\"dtype\":Int64, \"min\":25} \n",
            "\"Subflow Fwd Byts\":{\"dtype\":Int64, \"min\":461} \n",
            "\"Subflow Bwd Pkts\":{\"dtype\":Int64, \"min\":22} \n",
            "\"Subflow Bwd Byts\":{\"dtype\":Int64, \"min\":697} \n",
            "\"Init Fwd Win Byts\":{\"dtype\":Int64, \"min\":25} \n",
            "\"Init Bwd Win Byts\":{\"dtype\":Int64, \"min\":23} \n",
            "\"Fwd Act Data Pkts\":{\"dtype\":Int64, \"min\":16} \n",
            "\"Fwd Seg Size Min\":{\"dtype\":Int64, \"min\":6} \n",
            "\"Active Mean\":{\"dtype\":Float64, \"min\":5684} \n",
            "\"Active Std\":{\"dtype\":Float64, \"min\":17} \n",
            "\"Active Max\":{\"dtype\":Int64, \"min\":5685} \n",
            "\"Active Min\":{\"dtype\":Int64, \"min\":5684} \n",
            "\"Idle Mean\":{\"dtype\":Float64, \"min\":45989} \n",
            "\"Idle Std\":{\"dtype\":Float64, \"min\":100} \n",
            "\"Idle Max\":{\"dtype\":Int64, \"min\":45989} \n",
            "\"Idle Min\":{\"dtype\":Int64, \"min\":45989} \n",
            "\"Label\":{\"dtype\":Int64, \"min\":1} \n",
            "}\n"
          ]
        }
      ]
    },
    {
      "cell_type": "code",
      "source": [
        "d3['Label'].unique"
      ],
      "metadata": {
        "colab": {
          "base_uri": "https://localhost:8080/"
        },
        "id": "r-0x0F3-V91I",
        "outputId": "d692926e-b8e4-4535-fc98-ce7489f77b64"
      },
      "execution_count": 28,
      "outputs": [
        {
          "output_type": "execute_result",
          "data": {
            "text/plain": [
              "<bound method Series.unique of 0          <NA>\n",
              "1          <NA>\n",
              "2          <NA>\n",
              "3          <NA>\n",
              "4          <NA>\n",
              "           ... \n",
              "1048570    <NA>\n",
              "1048571    <NA>\n",
              "1048572    <NA>\n",
              "1048573    <NA>\n",
              "1048574    <NA>\n",
              "Name: Label, Length: 1048575, dtype: Int64>"
            ]
          },
          "metadata": {},
          "execution_count": 28
        }
      ]
    }
  ]
}