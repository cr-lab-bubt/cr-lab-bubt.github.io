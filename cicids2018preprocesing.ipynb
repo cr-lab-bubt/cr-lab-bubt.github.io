{
  "nbformat": 4,
  "nbformat_minor": 0,
  "metadata": {
    "colab": {
      "name": "Untitled4.ipynb",
      "provenance": [],
      "authorship_tag": "ABX9TyO6fHKjhc6CCV4fBhDgjb9E",
      "include_colab_link": true
    },
    "kernelspec": {
      "name": "python3",
      "display_name": "Python 3"
    },
    "language_info": {
      "name": "python"
    }
  },
  "cells": [
    {
      "cell_type": "markdown",
      "metadata": {
        "id": "view-in-github",
        "colab_type": "text"
      },
      "source": [
        "<a href=\"https://colab.research.google.com/github/j-hossain/crlab/blob/main/cicids2018preprocesing.ipynb\" target=\"_parent\"><img src=\"https://colab.research.google.com/assets/colab-badge.svg\" alt=\"Open In Colab\"/></a>"
      ]
    },
    {
      "cell_type": "code",
      "execution_count": 1,
      "metadata": {
        "id": "OIoCZLIrDGZ3"
      },
      "outputs": [],
      "source": [
        "import pandas as pd\n",
        "import numpy as np"
      ]
    },
    {
      "cell_type": "code",
      "source": [
        "# first upload the kaggle api key to fetch dataset\n",
        "from google.colab import files\n",
        "apiKey = files.upload()"
      ],
      "metadata": {
        "id": "b_LRP6O5Tz5b",
        "outputId": "dd388520-2033-4d20-bb3c-a737537b4203",
        "colab": {
          "resources": {
            "http://localhost:8080/nbextensions/google.colab/files.js": {
              "data": "Ly8gQ29weXJpZ2h0IDIwMTcgR29vZ2xlIExMQwovLwovLyBMaWNlbnNlZCB1bmRlciB0aGUgQXBhY2hlIExpY2Vuc2UsIFZlcnNpb24gMi4wICh0aGUgIkxpY2Vuc2UiKTsKLy8geW91IG1heSBub3QgdXNlIHRoaXMgZmlsZSBleGNlcHQgaW4gY29tcGxpYW5jZSB3aXRoIHRoZSBMaWNlbnNlLgovLyBZb3UgbWF5IG9idGFpbiBhIGNvcHkgb2YgdGhlIExpY2Vuc2UgYXQKLy8KLy8gICAgICBodHRwOi8vd3d3LmFwYWNoZS5vcmcvbGljZW5zZXMvTElDRU5TRS0yLjAKLy8KLy8gVW5sZXNzIHJlcXVpcmVkIGJ5IGFwcGxpY2FibGUgbGF3IG9yIGFncmVlZCB0byBpbiB3cml0aW5nLCBzb2Z0d2FyZQovLyBkaXN0cmlidXRlZCB1bmRlciB0aGUgTGljZW5zZSBpcyBkaXN0cmlidXRlZCBvbiBhbiAiQVMgSVMiIEJBU0lTLAovLyBXSVRIT1VUIFdBUlJBTlRJRVMgT1IgQ09ORElUSU9OUyBPRiBBTlkgS0lORCwgZWl0aGVyIGV4cHJlc3Mgb3IgaW1wbGllZC4KLy8gU2VlIHRoZSBMaWNlbnNlIGZvciB0aGUgc3BlY2lmaWMgbGFuZ3VhZ2UgZ292ZXJuaW5nIHBlcm1pc3Npb25zIGFuZAovLyBsaW1pdGF0aW9ucyB1bmRlciB0aGUgTGljZW5zZS4KCi8qKgogKiBAZmlsZW92ZXJ2aWV3IEhlbHBlcnMgZm9yIGdvb2dsZS5jb2xhYiBQeXRob24gbW9kdWxlLgogKi8KKGZ1bmN0aW9uKHNjb3BlKSB7CmZ1bmN0aW9uIHNwYW4odGV4dCwgc3R5bGVBdHRyaWJ1dGVzID0ge30pIHsKICBjb25zdCBlbGVtZW50ID0gZG9jdW1lbnQuY3JlYXRlRWxlbWVudCgnc3BhbicpOwogIGVsZW1lbnQudGV4dENvbnRlbnQgPSB0ZXh0OwogIGZvciAoY29uc3Qga2V5IG9mIE9iamVjdC5rZXlzKHN0eWxlQXR0cmlidXRlcykpIHsKICAgIGVsZW1lbnQuc3R5bGVba2V5XSA9IHN0eWxlQXR0cmlidXRlc1trZXldOwogIH0KICByZXR1cm4gZWxlbWVudDsKfQoKLy8gTWF4IG51bWJlciBvZiBieXRlcyB3aGljaCB3aWxsIGJlIHVwbG9hZGVkIGF0IGEgdGltZS4KY29uc3QgTUFYX1BBWUxPQURfU0laRSA9IDEwMCAqIDEwMjQ7CgpmdW5jdGlvbiBfdXBsb2FkRmlsZXMoaW5wdXRJZCwgb3V0cHV0SWQpIHsKICBjb25zdCBzdGVwcyA9IHVwbG9hZEZpbGVzU3RlcChpbnB1dElkLCBvdXRwdXRJZCk7CiAgY29uc3Qgb3V0cHV0RWxlbWVudCA9IGRvY3VtZW50LmdldEVsZW1lbnRCeUlkKG91dHB1dElkKTsKICAvLyBDYWNoZSBzdGVwcyBvbiB0aGUgb3V0cHV0RWxlbWVudCB0byBtYWtlIGl0IGF2YWlsYWJsZSBmb3IgdGhlIG5leHQgY2FsbAogIC8vIHRvIHVwbG9hZEZpbGVzQ29udGludWUgZnJvbSBQeXRob24uCiAgb3V0cHV0RWxlbWVudC5zdGVwcyA9IHN0ZXBzOwoKICByZXR1cm4gX3VwbG9hZEZpbGVzQ29udGludWUob3V0cHV0SWQpOwp9CgovLyBUaGlzIGlzIHJvdWdobHkgYW4gYXN5bmMgZ2VuZXJhdG9yIChub3Qgc3VwcG9ydGVkIGluIHRoZSBicm93c2VyIHlldCksCi8vIHdoZXJlIHRoZXJlIGFyZSBtdWx0aXBsZSBhc3luY2hyb25vdXMgc3RlcHMgYW5kIHRoZSBQeXRob24gc2lkZSBpcyBnb2luZwovLyB0byBwb2xsIGZvciBjb21wbGV0aW9uIG9mIGVhY2ggc3RlcC4KLy8gVGhpcyB1c2VzIGEgUHJvbWlzZSB0byBibG9jayB0aGUgcHl0aG9uIHNpZGUgb24gY29tcGxldGlvbiBvZiBlYWNoIHN0ZXAsCi8vIHRoZW4gcGFzc2VzIHRoZSByZXN1bHQgb2YgdGhlIHByZXZpb3VzIHN0ZXAgYXMgdGhlIGlucHV0IHRvIHRoZSBuZXh0IHN0ZXAuCmZ1bmN0aW9uIF91cGxvYWRGaWxlc0NvbnRpbnVlKG91dHB1dElkKSB7CiAgY29uc3Qgb3V0cHV0RWxlbWVudCA9IGRvY3VtZW50LmdldEVsZW1lbnRCeUlkKG91dHB1dElkKTsKICBjb25zdCBzdGVwcyA9IG91dHB1dEVsZW1lbnQuc3RlcHM7CgogIGNvbnN0IG5leHQgPSBzdGVwcy5uZXh0KG91dHB1dEVsZW1lbnQubGFzdFByb21pc2VWYWx1ZSk7CiAgcmV0dXJuIFByb21pc2UucmVzb2x2ZShuZXh0LnZhbHVlLnByb21pc2UpLnRoZW4oKHZhbHVlKSA9PiB7CiAgICAvLyBDYWNoZSB0aGUgbGFzdCBwcm9taXNlIHZhbHVlIHRvIG1ha2UgaXQgYXZhaWxhYmxlIHRvIHRoZSBuZXh0CiAgICAvLyBzdGVwIG9mIHRoZSBnZW5lcmF0b3IuCiAgICBvdXRwdXRFbGVtZW50Lmxhc3RQcm9taXNlVmFsdWUgPSB2YWx1ZTsKICAgIHJldHVybiBuZXh0LnZhbHVlLnJlc3BvbnNlOwogIH0pOwp9CgovKioKICogR2VuZXJhdG9yIGZ1bmN0aW9uIHdoaWNoIGlzIGNhbGxlZCBiZXR3ZWVuIGVhY2ggYXN5bmMgc3RlcCBvZiB0aGUgdXBsb2FkCiAqIHByb2Nlc3MuCiAqIEBwYXJhbSB7c3RyaW5nfSBpbnB1dElkIEVsZW1lbnQgSUQgb2YgdGhlIGlucHV0IGZpbGUgcGlja2VyIGVsZW1lbnQuCiAqIEBwYXJhbSB7c3RyaW5nfSBvdXRwdXRJZCBFbGVtZW50IElEIG9mIHRoZSBvdXRwdXQgZGlzcGxheS4KICogQHJldHVybiB7IUl0ZXJhYmxlPCFPYmplY3Q+fSBJdGVyYWJsZSBvZiBuZXh0IHN0ZXBzLgogKi8KZnVuY3Rpb24qIHVwbG9hZEZpbGVzU3RlcChpbnB1dElkLCBvdXRwdXRJZCkgewogIGNvbnN0IGlucHV0RWxlbWVudCA9IGRvY3VtZW50LmdldEVsZW1lbnRCeUlkKGlucHV0SWQpOwogIGlucHV0RWxlbWVudC5kaXNhYmxlZCA9IGZhbHNlOwoKICBjb25zdCBvdXRwdXRFbGVtZW50ID0gZG9jdW1lbnQuZ2V0RWxlbWVudEJ5SWQob3V0cHV0SWQpOwogIG91dHB1dEVsZW1lbnQuaW5uZXJIVE1MID0gJyc7CgogIGNvbnN0IHBpY2tlZFByb21pc2UgPSBuZXcgUHJvbWlzZSgocmVzb2x2ZSkgPT4gewogICAgaW5wdXRFbGVtZW50LmFkZEV2ZW50TGlzdGVuZXIoJ2NoYW5nZScsIChlKSA9PiB7CiAgICAgIHJlc29sdmUoZS50YXJnZXQuZmlsZXMpOwogICAgfSk7CiAgfSk7CgogIGNvbnN0IGNhbmNlbCA9IGRvY3VtZW50LmNyZWF0ZUVsZW1lbnQoJ2J1dHRvbicpOwogIGlucHV0RWxlbWVudC5wYXJlbnRFbGVtZW50LmFwcGVuZENoaWxkKGNhbmNlbCk7CiAgY2FuY2VsLnRleHRDb250ZW50ID0gJ0NhbmNlbCB1cGxvYWQnOwogIGNvbnN0IGNhbmNlbFByb21pc2UgPSBuZXcgUHJvbWlzZSgocmVzb2x2ZSkgPT4gewogICAgY2FuY2VsLm9uY2xpY2sgPSAoKSA9PiB7CiAgICAgIHJlc29sdmUobnVsbCk7CiAgICB9OwogIH0pOwoKICAvLyBXYWl0IGZvciB0aGUgdXNlciB0byBwaWNrIHRoZSBmaWxlcy4KICBjb25zdCBmaWxlcyA9IHlpZWxkIHsKICAgIHByb21pc2U6IFByb21pc2UucmFjZShbcGlja2VkUHJvbWlzZSwgY2FuY2VsUHJvbWlzZV0pLAogICAgcmVzcG9uc2U6IHsKICAgICAgYWN0aW9uOiAnc3RhcnRpbmcnLAogICAgfQogIH07CgogIGNhbmNlbC5yZW1vdmUoKTsKCiAgLy8gRGlzYWJsZSB0aGUgaW5wdXQgZWxlbWVudCBzaW5jZSBmdXJ0aGVyIHBpY2tzIGFyZSBub3QgYWxsb3dlZC4KICBpbnB1dEVsZW1lbnQuZGlzYWJsZWQgPSB0cnVlOwoKICBpZiAoIWZpbGVzKSB7CiAgICByZXR1cm4gewogICAgICByZXNwb25zZTogewogICAgICAgIGFjdGlvbjogJ2NvbXBsZXRlJywKICAgICAgfQogICAgfTsKICB9CgogIGZvciAoY29uc3QgZmlsZSBvZiBmaWxlcykgewogICAgY29uc3QgbGkgPSBkb2N1bWVudC5jcmVhdGVFbGVtZW50KCdsaScpOwogICAgbGkuYXBwZW5kKHNwYW4oZmlsZS5uYW1lLCB7Zm9udFdlaWdodDogJ2JvbGQnfSkpOwogICAgbGkuYXBwZW5kKHNwYW4oCiAgICAgICAgYCgke2ZpbGUudHlwZSB8fCAnbi9hJ30pIC0gJHtmaWxlLnNpemV9IGJ5dGVzLCBgICsKICAgICAgICBgbGFzdCBtb2RpZmllZDogJHsKICAgICAgICAgICAgZmlsZS5sYXN0TW9kaWZpZWREYXRlID8gZmlsZS5sYXN0TW9kaWZpZWREYXRlLnRvTG9jYWxlRGF0ZVN0cmluZygpIDoKICAgICAgICAgICAgICAgICAgICAgICAgICAgICAgICAgICAgJ24vYSd9IC0gYCkpOwogICAgY29uc3QgcGVyY2VudCA9IHNwYW4oJzAlIGRvbmUnKTsKICAgIGxpLmFwcGVuZENoaWxkKHBlcmNlbnQpOwoKICAgIG91dHB1dEVsZW1lbnQuYXBwZW5kQ2hpbGQobGkpOwoKICAgIGNvbnN0IGZpbGVEYXRhUHJvbWlzZSA9IG5ldyBQcm9taXNlKChyZXNvbHZlKSA9PiB7CiAgICAgIGNvbnN0IHJlYWRlciA9IG5ldyBGaWxlUmVhZGVyKCk7CiAgICAgIHJlYWRlci5vbmxvYWQgPSAoZSkgPT4gewogICAgICAgIHJlc29sdmUoZS50YXJnZXQucmVzdWx0KTsKICAgICAgfTsKICAgICAgcmVhZGVyLnJlYWRBc0FycmF5QnVmZmVyKGZpbGUpOwogICAgfSk7CiAgICAvLyBXYWl0IGZvciB0aGUgZGF0YSB0byBiZSByZWFkeS4KICAgIGxldCBmaWxlRGF0YSA9IHlpZWxkIHsKICAgICAgcHJvbWlzZTogZmlsZURhdGFQcm9taXNlLAogICAgICByZXNwb25zZTogewogICAgICAgIGFjdGlvbjogJ2NvbnRpbnVlJywKICAgICAgfQogICAgfTsKCiAgICAvLyBVc2UgYSBjaHVua2VkIHNlbmRpbmcgdG8gYXZvaWQgbWVzc2FnZSBzaXplIGxpbWl0cy4gU2VlIGIvNjIxMTU2NjAuCiAgICBsZXQgcG9zaXRpb24gPSAwOwogICAgZG8gewogICAgICBjb25zdCBsZW5ndGggPSBNYXRoLm1pbihmaWxlRGF0YS5ieXRlTGVuZ3RoIC0gcG9zaXRpb24sIE1BWF9QQVlMT0FEX1NJWkUpOwogICAgICBjb25zdCBjaHVuayA9IG5ldyBVaW50OEFycmF5KGZpbGVEYXRhLCBwb3NpdGlvbiwgbGVuZ3RoKTsKICAgICAgcG9zaXRpb24gKz0gbGVuZ3RoOwoKICAgICAgY29uc3QgYmFzZTY0ID0gYnRvYShTdHJpbmcuZnJvbUNoYXJDb2RlLmFwcGx5KG51bGwsIGNodW5rKSk7CiAgICAgIHlpZWxkIHsKICAgICAgICByZXNwb25zZTogewogICAgICAgICAgYWN0aW9uOiAnYXBwZW5kJywKICAgICAgICAgIGZpbGU6IGZpbGUubmFtZSwKICAgICAgICAgIGRhdGE6IGJhc2U2NCwKICAgICAgICB9LAogICAgICB9OwoKICAgICAgbGV0IHBlcmNlbnREb25lID0gZmlsZURhdGEuYnl0ZUxlbmd0aCA9PT0gMCA/CiAgICAgICAgICAxMDAgOgogICAgICAgICAgTWF0aC5yb3VuZCgocG9zaXRpb24gLyBmaWxlRGF0YS5ieXRlTGVuZ3RoKSAqIDEwMCk7CiAgICAgIHBlcmNlbnQudGV4dENvbnRlbnQgPSBgJHtwZXJjZW50RG9uZX0lIGRvbmVgOwoKICAgIH0gd2hpbGUgKHBvc2l0aW9uIDwgZmlsZURhdGEuYnl0ZUxlbmd0aCk7CiAgfQoKICAvLyBBbGwgZG9uZS4KICB5aWVsZCB7CiAgICByZXNwb25zZTogewogICAgICBhY3Rpb246ICdjb21wbGV0ZScsCiAgICB9CiAgfTsKfQoKc2NvcGUuZ29vZ2xlID0gc2NvcGUuZ29vZ2xlIHx8IHt9OwpzY29wZS5nb29nbGUuY29sYWIgPSBzY29wZS5nb29nbGUuY29sYWIgfHwge307CnNjb3BlLmdvb2dsZS5jb2xhYi5fZmlsZXMgPSB7CiAgX3VwbG9hZEZpbGVzLAogIF91cGxvYWRGaWxlc0NvbnRpbnVlLAp9Owp9KShzZWxmKTsK",
              "ok": true,
              "headers": [
                [
                  "content-type",
                  "application/javascript"
                ]
              ],
              "status": 200,
              "status_text": ""
            }
          },
          "base_uri": "https://localhost:8080/",
          "height": 74
        }
      },
      "execution_count": 2,
      "outputs": [
        {
          "output_type": "display_data",
          "data": {
            "text/plain": [
              "<IPython.core.display.HTML object>"
            ],
            "text/html": [
              "\n",
              "     <input type=\"file\" id=\"files-49a889ad-6fc9-45d1-8242-d12320131c9a\" name=\"files[]\" multiple disabled\n",
              "        style=\"border:none\" />\n",
              "     <output id=\"result-49a889ad-6fc9-45d1-8242-d12320131c9a\">\n",
              "      Upload widget is only available when the cell has been executed in the\n",
              "      current browser session. Please rerun this cell to enable.\n",
              "      </output>\n",
              "      <script src=\"/nbextensions/google.colab/files.js\"></script> "
            ]
          },
          "metadata": {}
        },
        {
          "output_type": "stream",
          "name": "stdout",
          "text": [
            "Saving kaggle.json to kaggle.json\n"
          ]
        }
      ]
    },
    {
      "cell_type": "code",
      "source": [
        "import os\n",
        "os.environ['KAGGLE_CONFIG_DIR'] = \"/content\"\n",
        "! chmod 600 /content/kaggle.json\n",
        "! kaggle datasets download solarmainframe/ids-intrusion-csv\n",
        "! mkdir dataset\n",
        "! unzip /content/ids-intrusion-csv.zip -d '/content/dataset'"
      ],
      "metadata": {
        "id": "M4KgoM8_T7co",
        "outputId": "44209c15-723f-4e34-b217-9c0f34a76588",
        "colab": {
          "base_uri": "https://localhost:8080/"
        }
      },
      "execution_count": 3,
      "outputs": [
        {
          "output_type": "stream",
          "name": "stdout",
          "text": [
            "Downloading ids-intrusion-csv.zip to /content\n",
            " 99% 1.59G/1.60G [00:15<00:00, 99.9MB/s]\n",
            "100% 1.60G/1.60G [00:15<00:00, 113MB/s] \n",
            "Archive:  /content/ids-intrusion-csv.zip\n",
            "  inflating: /content/dataset/02-14-2018.csv  \n",
            "  inflating: /content/dataset/02-15-2018.csv  \n",
            "  inflating: /content/dataset/02-16-2018.csv  \n",
            "  inflating: /content/dataset/02-20-2018.csv  \n",
            "  inflating: /content/dataset/02-21-2018.csv  \n",
            "  inflating: /content/dataset/02-22-2018.csv  \n",
            "  inflating: /content/dataset/02-23-2018.csv  \n",
            "  inflating: /content/dataset/02-28-2018.csv  \n",
            "  inflating: /content/dataset/03-01-2018.csv  \n",
            "  inflating: /content/dataset/03-02-2018.csv  \n"
          ]
        }
      ]
    },
    {
      "cell_type": "code",
      "source": [
        "dtp = {\"Dst Port\":\"int32\",\"Protocol\":\"int8\",\n",
        "       \"Tot Fwd Pkts\":\"int16\",\n",
        "       \"Tot Bwd Pkts\":\"int16\",\n",
        "       \"Fwd Pkt Len Max\":\"int32\",\n",
        "       \"Fwd Pkt Len Min\":\"int16\",\n",
        "       \"Fwd Pkt Len Mean\":\"float32\",\n",
        "       \"Fwd Pkt Len Std\":\"float32\",\n",
        "       \"Bwd Pkt Len Max\":\"int16\",\n",
        "       \"Bwd Pkt Len Min\":\"int16\",\n",
        "       \"Bwd Pkt Len Mean\":\"float32\",\n",
        "       \"Bwd Pkt Len Std\":\"float32\",\n",
        "       \"Fwd Header Len\":\"int32\",\n",
        "       \"Bwd Header Len\":\"int32\",\n",
        "       \"Pkt Len Min\":\"int16\"\n",
        "       }\n",
        "drp = [\"Timestamp\"]"
      ],
      "metadata": {
        "id": "xTme_kqIU9Zt"
      },
      "execution_count": 4,
      "outputs": []
    },
    {
      "cell_type": "code",
      "source": [
        "df=pd.read_csv('/content/dataset/02-14-2018.csv',dtype=dtp,usecols=lambda x: x not in drp)"
      ],
      "metadata": {
        "id": "XIFnUy_TUOn4"
      },
      "execution_count": 5,
      "outputs": []
    },
    {
      "cell_type": "code",
      "source": [
        "for i, name in enumerate(df.columns):\n",
        "  if len(df[name].unique())<10:\n",
        "    dtp[name]=\"category\"\n",
        "  \n",
        "  elif df[name].dtype==\"int64\":\n",
        "    if df[name].min()>=0:\n",
        "      if df[name].max()<=255:\n",
        "        dtp[name]=\"uint8\"\n",
        "      if df[name].max()<=65535:\n",
        "        dtp[name]=\"uint16\"\n",
        "      elif df[name].max()<=2147483647:\n",
        "        dtp[name]=\"uint32\"\n",
        "    else:\n",
        "      if df[name].min()>=-128 and df[name].max()<=127:\n",
        "        dtp[name]=\"int8\"\n",
        "      if df[name].min()>=-32768 and df[name].max()<=32767:\n",
        "        dtp[name]=\"int16\"\n",
        "      if df[name].min()>=-2147483648 and df[name].max()<=2147483647:\n",
        "        dtp[name]=\"int32\"\n",
        "  else:\n",
        "      if df[name].min()>=-2147483648 and df[name].max()<=2147483647:\n",
        "        dtp[name]=\"float32\"\n",
        "  \n",
        "print(dtp)"
      ],
      "metadata": {
        "id": "ZhcjftEWHTNe",
        "outputId": "24c06c1c-0c29-4452-cf32-47a31718d53d",
        "colab": {
          "base_uri": "https://localhost:8080/"
        }
      },
      "execution_count": 19,
      "outputs": [
        {
          "output_type": "stream",
          "name": "stdout",
          "text": [
            "{'Dst Port': 'float32', 'Protocol': 'category', 'Tot Fwd Pkts': 'float32', 'Tot Bwd Pkts': 'float32', 'Fwd Pkt Len Max': 'float32', 'Fwd Pkt Len Min': 'float32', 'Fwd Pkt Len Mean': 'float32', 'Fwd Pkt Len Std': 'float32', 'Bwd Pkt Len Max': 'float32', 'Bwd Pkt Len Min': 'float32', 'Bwd Pkt Len Mean': 'float32', 'Bwd Pkt Len Std': 'float32', 'Fwd Header Len': 'float32', 'Bwd Header Len': 'float32', 'Pkt Len Min': 'float32', 'Fwd PSH Flags': 'category', 'Bwd PSH Flags': 'category', 'Fwd URG Flags': 'category', 'Bwd URG Flags': 'category', 'FIN Flag Cnt': 'category', 'SYN Flag Cnt': 'category', 'RST Flag Cnt': 'category', 'PSH Flag Cnt': 'category', 'ACK Flag Cnt': 'category', 'URG Flag Cnt': 'category', 'CWE Flag Count': 'category', 'ECE Flag Cnt': 'category', 'Fwd Byts/b Avg': 'category', 'Fwd Pkts/b Avg': 'category', 'Fwd Blk Rate Avg': 'category', 'Bwd Byts/b Avg': 'category', 'Bwd Pkts/b Avg': 'category', 'Bwd Blk Rate Avg': 'category', 'Label': 'category', 'TotLen Fwd Pkts': 'uint32', 'TotLen Bwd Pkts': 'uint32', 'Bwd IAT Tot': 'uint32', 'Bwd IAT Mean': 'float32', 'Bwd IAT Std': 'float32', 'Bwd IAT Max': 'uint32', 'Bwd IAT Min': 'uint32', 'Fwd Pkts/s': 'float32', 'Bwd Pkts/s': 'float32', 'Pkt Len Max': 'uint16', 'Pkt Len Mean': 'float32', 'Pkt Len Std': 'float32', 'Pkt Len Var': 'float32', 'Down/Up Ratio': 'uint16', 'Pkt Size Avg': 'float32', 'Fwd Seg Size Avg': 'float32', 'Bwd Seg Size Avg': 'float32', 'Subflow Fwd Pkts': 'uint16', 'Subflow Fwd Byts': 'uint32', 'Subflow Bwd Pkts': 'uint16', 'Subflow Bwd Byts': 'uint32', 'Init Fwd Win Byts': 'int32', 'Init Bwd Win Byts': 'int32', 'Fwd Act Data Pkts': 'uint16', 'Fwd Seg Size Min': 'uint16', 'Active Mean': 'float32', 'Active Std': 'float32', 'Active Max': 'uint32', 'Active Min': 'uint32'}\n"
          ]
        }
      ]
    },
    {
      "cell_type": "code",
      "source": [
        "df=pd.read_csv('/content/dataset/02-14-2018.csv',dtype=dtp,usecols=lambda x: x not in drp)"
      ],
      "metadata": {
        "id": "JGSbiBgPJ4WM"
      },
      "execution_count": 14,
      "outputs": []
    },
    {
      "cell_type": "code",
      "source": [
        "pd.set_option('display.max_rows', 500)\n",
        "for i, name in enumerate(df.columns):\n",
        "    # print(f'\"{name}\":{{\"dtype\":{df[name].dtype}, \"min\":{df[name].min()}, \"max\":{df[name].max()}}} {\",\" if i>(len(df.columns)-1) else \"\"}')\n",
        "    print(f'\"{name}\":{{\"dtype\":{df[name].dtype}, \"min\":{len(df[name].unique())}}} {\",\" if i>(len(df.columns)-1) else \"\"}')\n",
        "print(\"}\") "
      ],
      "metadata": {
        "id": "QxZhLAW4WbFC",
        "outputId": "c0d37778-587e-4e7c-b750-3e9f216c6e45",
        "colab": {
          "base_uri": "https://localhost:8080/"
        }
      },
      "execution_count": 16,
      "outputs": [
        {
          "output_type": "stream",
          "name": "stdout",
          "text": [
            "\"Dst Port\":{\"dtype\":int32, \"min\":18567} \n",
            "\"Protocol\":{\"dtype\":category, \"min\":3} \n",
            "\"Flow Duration\":{\"dtype\":int64, \"min\":389493} \n",
            "\"Tot Fwd Pkts\":{\"dtype\":int16, \"min\":751} \n",
            "\"Tot Bwd Pkts\":{\"dtype\":int16, \"min\":988} \n",
            "\"TotLen Fwd Pkts\":{\"dtype\":int64, \"min\":5842} \n",
            "\"TotLen Bwd Pkts\":{\"dtype\":int64, \"min\":15656} \n",
            "\"Fwd Pkt Len Max\":{\"dtype\":int32, \"min\":1390} \n",
            "\"Fwd Pkt Len Min\":{\"dtype\":int16, \"min\":112} \n",
            "\"Fwd Pkt Len Mean\":{\"dtype\":float32, \"min\":17879} \n",
            "\"Fwd Pkt Len Std\":{\"dtype\":float32, \"min\":27491} \n",
            "\"Bwd Pkt Len Max\":{\"dtype\":int16, \"min\":958} \n",
            "\"Bwd Pkt Len Min\":{\"dtype\":int16, \"min\":270} \n",
            "\"Bwd Pkt Len Mean\":{\"dtype\":float32, \"min\":24517} \n",
            "\"Bwd Pkt Len Std\":{\"dtype\":float32, \"min\":28813} \n",
            "\"Flow Byts/s\":{\"dtype\":float64, \"min\":454333} \n",
            "\"Flow Pkts/s\":{\"dtype\":float64, \"min\":417167} \n",
            "\"Flow IAT Mean\":{\"dtype\":float64, \"min\":418622} \n",
            "\"Flow IAT Std\":{\"dtype\":float64, \"min\":416669} \n",
            "\"Flow IAT Max\":{\"dtype\":int64, \"min\":295378} \n",
            "\"Flow IAT Min\":{\"dtype\":int64, \"min\":66507} \n",
            "\"Fwd IAT Tot\":{\"dtype\":int64, \"min\":352376} \n",
            "\"Fwd IAT Mean\":{\"dtype\":float64, \"min\":373758} \n",
            "\"Fwd IAT Std\":{\"dtype\":float64, \"min\":341531} \n",
            "\"Fwd IAT Max\":{\"dtype\":int64, \"min\":303763} \n",
            "\"Fwd IAT Min\":{\"dtype\":int64, \"min\":89620} \n",
            "\"Bwd IAT Tot\":{\"dtype\":int64, \"min\":293735} \n",
            "\"Bwd IAT Mean\":{\"dtype\":float64, \"min\":309260} \n",
            "\"Bwd IAT Std\":{\"dtype\":float64, \"min\":330389} \n",
            "\"Bwd IAT Max\":{\"dtype\":int64, \"min\":222886} \n",
            "\"Bwd IAT Min\":{\"dtype\":int64, \"min\":108796} \n",
            "\"Fwd PSH Flags\":{\"dtype\":category, \"min\":2} \n",
            "\"Bwd PSH Flags\":{\"dtype\":category, \"min\":1} \n",
            "\"Fwd URG Flags\":{\"dtype\":category, \"min\":1} \n",
            "\"Bwd URG Flags\":{\"dtype\":category, \"min\":1} \n",
            "\"Fwd Header Len\":{\"dtype\":int32, \"min\":1237} \n",
            "\"Bwd Header Len\":{\"dtype\":int32, \"min\":1843} \n",
            "\"Fwd Pkts/s\":{\"dtype\":float64, \"min\":410765} \n",
            "\"Bwd Pkts/s\":{\"dtype\":float64, \"min\":359869} \n",
            "\"Pkt Len Min\":{\"dtype\":int16, \"min\":80} \n",
            "\"Pkt Len Max\":{\"dtype\":int64, \"min\":1139} \n",
            "\"Pkt Len Mean\":{\"dtype\":float64, \"min\":36030} \n",
            "\"Pkt Len Std\":{\"dtype\":float64, \"min\":42554} \n",
            "\"Pkt Len Var\":{\"dtype\":float64, \"min\":42707} \n",
            "\"FIN Flag Cnt\":{\"dtype\":category, \"min\":2} \n",
            "\"SYN Flag Cnt\":{\"dtype\":category, \"min\":2} \n",
            "\"RST Flag Cnt\":{\"dtype\":category, \"min\":2} \n",
            "\"PSH Flag Cnt\":{\"dtype\":category, \"min\":2} \n",
            "\"ACK Flag Cnt\":{\"dtype\":category, \"min\":2} \n",
            "\"URG Flag Cnt\":{\"dtype\":category, \"min\":2} \n",
            "\"CWE Flag Count\":{\"dtype\":category, \"min\":1} \n",
            "\"ECE Flag Cnt\":{\"dtype\":category, \"min\":2} \n",
            "\"Down/Up Ratio\":{\"dtype\":int64, \"min\":33} \n",
            "\"Pkt Size Avg\":{\"dtype\":float64, \"min\":35682} \n",
            "\"Fwd Seg Size Avg\":{\"dtype\":float64, \"min\":17879} \n",
            "\"Bwd Seg Size Avg\":{\"dtype\":float64, \"min\":24523} \n",
            "\"Fwd Byts/b Avg\":{\"dtype\":category, \"min\":1} \n",
            "\"Fwd Pkts/b Avg\":{\"dtype\":category, \"min\":1} \n",
            "\"Fwd Blk Rate Avg\":{\"dtype\":category, \"min\":1} \n",
            "\"Bwd Byts/b Avg\":{\"dtype\":category, \"min\":1} \n",
            "\"Bwd Pkts/b Avg\":{\"dtype\":category, \"min\":1} \n",
            "\"Bwd Blk Rate Avg\":{\"dtype\":category, \"min\":1} \n",
            "\"Subflow Fwd Pkts\":{\"dtype\":int64, \"min\":751} \n",
            "\"Subflow Fwd Byts\":{\"dtype\":int64, \"min\":5842} \n",
            "\"Subflow Bwd Pkts\":{\"dtype\":int64, \"min\":988} \n",
            "\"Subflow Bwd Byts\":{\"dtype\":int64, \"min\":15656} \n",
            "\"Init Fwd Win Byts\":{\"dtype\":int64, \"min\":3308} \n",
            "\"Init Bwd Win Byts\":{\"dtype\":int64, \"min\":3547} \n",
            "\"Fwd Act Data Pkts\":{\"dtype\":int64, \"min\":112} \n",
            "\"Fwd Seg Size Min\":{\"dtype\":int64, \"min\":10} \n",
            "\"Active Mean\":{\"dtype\":float64, \"min\":73591} \n",
            "\"Active Std\":{\"dtype\":float64, \"min\":55382} \n",
            "\"Active Max\":{\"dtype\":int64, \"min\":71437} \n",
            "\"Active Min\":{\"dtype\":int64, \"min\":38864} \n",
            "\"Idle Mean\":{\"dtype\":float64, \"min\":80419} \n",
            "\"Idle Std\":{\"dtype\":float64, \"min\":57847} \n",
            "\"Idle Max\":{\"dtype\":int64, \"min\":59134} \n",
            "\"Idle Min\":{\"dtype\":int64, \"min\":69046} \n",
            "\"Label\":{\"dtype\":category, \"min\":3} \n",
            "}\n"
          ]
        }
      ]
    }
  ]
}